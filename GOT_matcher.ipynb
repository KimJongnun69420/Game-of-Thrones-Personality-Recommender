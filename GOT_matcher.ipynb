{
 "cells": [
  {
   "cell_type": "code",
   "execution_count": 3,
   "metadata": {
    "id": "NX0fjOc6BNWH"
   },
   "outputs": [],
   "source": [
    "import numpy as np\n",
    "import pandas as pd"
   ]
  },
  {
   "cell_type": "code",
   "execution_count": 7,
   "metadata": {
    "id": "OUW91sSFBhE3"
   },
   "outputs": [],
   "source": [
    "df= pd.read_json(r\"C:\\Users\\vipul\\Downloads\\archive (3)\\script-bag-of-words.json\")"
   ]
  },
  {
   "cell_type": "code",
   "execution_count": 9,
   "metadata": {
    "colab": {
     "base_uri": "https://localhost:8080/",
     "height": 293
    },
    "id": "c-FOerDCCYaj",
    "outputId": "21eaec0b-d155-4e4a-8640-19d038cce623"
   },
   "outputs": [
    {
     "data": {
      "text/html": [
       "<div>\n",
       "<style scoped>\n",
       "    .dataframe tbody tr th:only-of-type {\n",
       "        vertical-align: middle;\n",
       "    }\n",
       "\n",
       "    .dataframe tbody tr th {\n",
       "        vertical-align: top;\n",
       "    }\n",
       "\n",
       "    .dataframe thead th {\n",
       "        text-align: right;\n",
       "    }\n",
       "</style>\n",
       "<table border=\"1\" class=\"dataframe\">\n",
       "  <thead>\n",
       "    <tr style=\"text-align: right;\">\n",
       "      <th></th>\n",
       "      <th>episodeAlt</th>\n",
       "      <th>seasonNum</th>\n",
       "      <th>episodeNum</th>\n",
       "      <th>episodeTitle</th>\n",
       "      <th>text</th>\n",
       "    </tr>\n",
       "  </thead>\n",
       "  <tbody>\n",
       "    <tr>\n",
       "      <th>0</th>\n",
       "      <td>S1E1</td>\n",
       "      <td>1</td>\n",
       "      <td>1</td>\n",
       "      <td>Winter Is Coming</td>\n",
       "      <td>[{'text': 'Easy, boy.', 'name': 'Will'}, {'tex...</td>\n",
       "    </tr>\n",
       "    <tr>\n",
       "      <th>1</th>\n",
       "      <td>S1E2</td>\n",
       "      <td>1</td>\n",
       "      <td>2</td>\n",
       "      <td>The Kingsroad</td>\n",
       "      <td>[{'text': 'And You child... drink, eat. need t...</td>\n",
       "    </tr>\n",
       "    <tr>\n",
       "      <th>2</th>\n",
       "      <td>S1E3</td>\n",
       "      <td>1</td>\n",
       "      <td>3</td>\n",
       "      <td>Lord Snow</td>\n",
       "      <td>[{'text': 'Council. Grand Lord Maester Pycelle...</td>\n",
       "    </tr>\n",
       "    <tr>\n",
       "      <th>3</th>\n",
       "      <td>S1E4</td>\n",
       "      <td>1</td>\n",
       "      <td>4</td>\n",
       "      <td>Cripples, Bastards, and Broken Things</td>\n",
       "      <td>[{'text': 'Lord's The again. been dreaming lit...</td>\n",
       "    </tr>\n",
       "    <tr>\n",
       "      <th>4</th>\n",
       "      <td>S1E5</td>\n",
       "      <td>1</td>\n",
       "      <td>5</td>\n",
       "      <td>The Wolf and the Lion</td>\n",
       "      <td>[{'text': 'Does Hugh Ser any capital? family h...</td>\n",
       "    </tr>\n",
       "  </tbody>\n",
       "</table>\n",
       "</div>"
      ],
      "text/plain": [
       "  episodeAlt  seasonNum  episodeNum                           episodeTitle  \\\n",
       "0       S1E1          1           1                       Winter Is Coming   \n",
       "1       S1E2          1           2                          The Kingsroad   \n",
       "2       S1E3          1           3                              Lord Snow   \n",
       "3       S1E4          1           4  Cripples, Bastards, and Broken Things   \n",
       "4       S1E5          1           5                  The Wolf and the Lion   \n",
       "\n",
       "                                                text  \n",
       "0  [{'text': 'Easy, boy.', 'name': 'Will'}, {'tex...  \n",
       "1  [{'text': 'And You child... drink, eat. need t...  \n",
       "2  [{'text': 'Council. Grand Lord Maester Pycelle...  \n",
       "3  [{'text': 'Lord's The again. been dreaming lit...  \n",
       "4  [{'text': 'Does Hugh Ser any capital? family h...  "
      ]
     },
     "execution_count": 9,
     "metadata": {},
     "output_type": "execute_result"
    }
   ],
   "source": [
    "df.head()"
   ]
  },
  {
   "cell_type": "code",
   "execution_count": 11,
   "metadata": {
    "colab": {
     "base_uri": "https://localhost:8080/"
    },
    "id": "PaPcCOKqCbCi",
    "outputId": "de0cb466-af6d-428c-abf2-548f56353345"
   },
   "outputs": [
    {
     "data": {
      "text/plain": [
       "[{'name': 'Tyrion Lannister', 'text': \"I'll find later. you\"},\n",
       " {'name': 'Jon Snow', 'text': \"It's Let me men not safe. send some with you.\"},\n",
       " {'name': 'Tyrion Lannister', 'text': \"I'm alone. going\"},\n",
       " {'name': 'Grey Worm',\n",
       "  'text': 'Daenerys I In Queen, Targaryen, die. name of one sentence the the to true you'},\n",
       " {'name': 'Jon Snow',\n",
       "  'text': \"Grey It's These Worm! are men over. prisoners.\"},\n",
       " {'name': 'Grey Worm',\n",
       "  'text': \"It Queen's are defeated. enemies is not over the until\"},\n",
       " {'name': 'Davos Seaworth',\n",
       "  'text': \"How They're be? defeated do knees. more much on their them to want you\"},\n",
       " {'name': 'Grey Worm', 'text': 'They are breathing.'},\n",
       " {'name': 'Davos Seaworth', 'text': 'Look We around friend. won. you,'},\n",
       " {'name': 'Grey Worm', 'text': \"I commands, my not obey queen's yours.\"},\n",
       " {'name': 'Jon Snow', 'text': \"And Queen's are commands? the what\"},\n",
       " {'name': 'Grey Worm',\n",
       "  'text': '\"Kill Cersei Lannister.\" These They all are chose fight follow for free her. men. to who'},\n",
       " {'name': 'Davos Seaworth',\n",
       "  'text': 'Easy! Easy, Easy. Jon. Queen. We men. should speak the with'},\n",
       " {'name': 'Dothraki Bloodrider #1', 'text': 'Hyah!'},\n",
       " {'lang': 'Dothraki',\n",
       "  'name': 'Daenerys Targaryen',\n",
       "  'translation': 'Blood Kingdoms! Seven You You You You all blood. down enemies gave houses. in iron kept killed me me. my my of promises stone suits. the their their to tore your',\n",
       "  'text': ''},\n",
       " {'lang': 'High Valyrian',\n",
       "  'name': 'Daenerys Targaryen',\n",
       "  'translation': \"Grey I Master Plaza Pride. Queen's War. Worm. You You all are beside bravest commander forces, have loyal me men, most my name of of of of of since soldiers. the the the the walked you\",\n",
       "  'text': ''},\n",
       " {'lang': 'High Valyrian',\n",
       "  'name': 'Daenerys Targaryen',\n",
       "  'translation': \"All But Dorne, From Isles Jade King's Landing Lannisport Now... Qarth, Sea! Summer Unsullied. We Will Winterfell Women, You a all and and are arms as beneath break children down freed from from from from grip have have have is lay liberated liberators! long me? men mothers' not not of of of of our over. people people raised slaves. spears suffered the the the the the the the the the to to to too torn tyrant! until war we were wheel wheel. will with world! you you you your\",\n",
       "  'text': ''},\n",
       " {'name': 'Daenerys Targaryen',\n",
       "  'text': 'You You brother. committed freed treason. your'},\n",
       " {'name': 'Tyrion Lannister',\n",
       "  'text': 'And I a brother. city. freed my slaughtered you'},\n",
       " {'lang': 'High Valyrian',\n",
       "  'name': 'Daenerys Targaryen',\n",
       "  'translation': 'Take him.',\n",
       "  'text': ''},\n",
       " {'name': 'Jon Snow', 'text': 'Hey, What are doing happened? here? what you'},\n",
       " {'name': 'Arya Stark',\n",
       "  'text': 'Cersei. I Your came first. got kill queen there to'},\n",
       " {'name': 'Jon Snow', 'text': \"She's everyone's now. queen\"},\n",
       " {'name': 'Arya Stark', 'text': 'Sansa. Try telling'},\n",
       " {'name': 'Jon Snow',\n",
       "  'text': \"I'll Wait city come find for gates. me outside the you.\"},\n",
       " {'name': 'Arya Stark',\n",
       "  'text': \"And I I Jon. She Who You'll a a always are. are. be her. killer know knows one. really see threat to when who you you\"},\n",
       " {'name': 'Tyrion Lannister', 'text': 'Did any bring wine? you'},\n",
       " {'name': 'Jon Snow', 'text': 'No.'},\n",
       " {'name': 'Tyrion Lannister',\n",
       "  'text': '\"See, Ah... I I I I\\'m I\\'m It Now Our So Varys\\'s Well... a after alive and ashes ashes: betrayed burn. can closest coming crude death? doesn\\'t for for friend going. him is just justice. keep kind knows life long. man me. me. my my occurred of only prisoners queen see suppose talking tell thank the there there\\'s to to to told watched where who you you.\"'},\n",
       " {'name': 'Jon Snow', 'text': \"I've Not seen. that\"},\n",
       " {'name': 'Tyrion Lannister',\n",
       "  'text': 'I I I I I Oblivion a be best betrayed could crossbow. father for. hope is lover. my my my own queen. shot should strangled thankful. the with'},\n",
       " {'name': 'Jon Snow', 'text': \"You didn't.\"},\n",
       " {'name': 'Tyrion Lannister',\n",
       "  'text': \"And I I I'd I've I've King's Landing The again, chose did did. do fate. it my not. now of people seen seen. that what\"},\n",
       " {'name': 'Jon Snow',\n",
       "  'text': \"But I I can't happened. is justify now. over the try. war what won't\"},\n",
       " {'name': 'Tyrion Lannister',\n",
       "  'text': \"And Bay. Is King's Landing. She She Slaver's When all. and are did done fighting? free... go heard her her it? liberated liberated liberating like of of of on people people people rules she she she'll soldiers, someone sound talking the the the the them to until who's world you\"},\n",
       " {'name': 'Jon Snow',\n",
       "  'text': \"And Until been by counseling her her. side, today. you've\"},\n",
       " {'name': 'Tyrion Lannister',\n",
       "  'text': \"I I It Our Until Varys and blood. could fire guide her. is nature queen's right. think to today. vanity was was was wrong.\"},\n",
       " {'name': 'Jon Snow',\n",
       "  'text': \"I'd Lannister. She's Then Tywin You and and are are? be blood, bodies born father, fire her house more no not on our our stamped than that's think too. we we're when who words you're\"},\n",
       " {'name': 'Tyrion Lannister',\n",
       "  'text': \"My My Pile a all all an an as as be beautiful bodies day. ever evil evil father half in killed, man. many of our people queen single sister slaughtered still the the there they up was was woman. won't\"},\n",
       " {'name': 'Jon Snow', 'text': 'Cersei choice. her left no'},\n",
       " {'name': 'Tyrion Lannister',\n",
       "  'text': 'The battle fell, gates moment over. the the was'},\n",
       " {'name': 'Jon Snow',\n",
       "  'text': 'She She beheaded. dragon friend her her of out saw saw shot sky. the'},\n",
       " {'name': 'Tyrion Lannister', 'text': 'And a burned city down for it. she'},\n",
       " {'name': 'Jon Snow',\n",
       "  'text': \"Aye, battlefield. easy far from it's judge standing the to when you're\"},\n",
       " {'name': 'Tyrion Lannister', 'text': 'Would done have it? you'},\n",
       " {'name': 'Jon Snow', 'text': 'What?'},\n",
       " {'name': 'Tyrion Lannister',\n",
       "  'text': \"Would You've You've a back. been burned city down? dragon's had have on power. that the there, up you\"},\n",
       " {'name': 'Jon Snow', 'text': \"I don't know.\"},\n",
       " {'name': 'Tyrion Lannister',\n",
       "  'text': \"Yes, You because betray but do. don't her... know. say to want won't you you you\"},\n",
       " {'name': 'Jon Snow', 'text': \"I'd What's do? it matter what\"},\n",
       " {'name': 'Tyrion Lannister',\n",
       "  'text': \"After And Astapor, Dothraki Everywhere I'm If It Meereenese She The They They When When a alive? all, and and and and anything. argue? believed believed believes better between build burned but cheer complained. could crucified destiny die done everyone. evil evil evil for for goes, good grows have her her her. hundreds if is is it, it. khals kill matters men men. men. more more more murdered no nobles, of of one paradise? powerful right. she she she she she she slavers slavers stood sure sure than that that... the the they to to truly we were were who whoever world worse would wouldn't you you you you\"},\n",
       " {'name': 'Tyrion Lannister',\n",
       "  'text': 'But I I I Look Love Not We all all as as at believed brother. heart. her her, her. in is know know love love more my my powerful reason. successfully than that. too. with you you.'},\n",
       " {'name': 'Jon Snow', 'text': '\"Love death duty.\" is of the'},\n",
       " {'name': 'Tyrion Lannister', 'text': 'You came just that? up with'},\n",
       " {'name': 'Jon Snow', 'text': 'Aemon Maester a ago. it long said time'},\n",
       " {'name': 'Tyrion Lannister',\n",
       "  'text': \"And Do I'm I'm Iron It's It's No Sometimes Throne? Who Who You a also always are asking. cost, dangerous death do duty execute? greatest guards heir is is is last love. man matter men. more now? of of people people. protect realms right right rightful she'll shield terrible than that the the the the the the the the the the the thing thing. thing. think threat to to to to tried tried you you've you've\"},\n",
       " {'name': 'Jon Snow',\n",
       "  'text': \"I'm Queen. She That's came decision. her is it sorry the this. to\"},\n",
       " {'name': 'Tyrion Lannister',\n",
       "  'text': 'And Do bending knee? see sisters? the them you your'},\n",
       " {'name': 'Jon Snow', 'text': 'My be loyal sisters the throne. to will'},\n",
       " {'name': 'Tyrion Lannister',\n",
       "  'text': \"Because Dany Sansa Why about be do doesn't me queen. she the think to told truth want you you?\"},\n",
       " {'name': 'Jon Snow', 'text': \"She choose. doesn't get to\"},\n",
       " {'name': 'Tyrion Lannister',\n",
       "  'text': 'And But No. choose do. have now. to you you'},\n",
       " {'name': 'Daenerys Targaryen',\n",
       "  'text': \"1,000 1,000 20? Aegon's Aegon's I I So What When a a a brother can't climb. could count do enemies, enemies. fallen fallen feet. from girl girl, high imagined in it like little look made many me mind mountain my of of of only see soles swords swords swords the the to to told too was was who with you\"},\n",
       " {'name': 'Jon Snow',\n",
       "  'text': 'I Lannister They acting executing in on orders. prisoners said saw street. the them they were your'},\n",
       " {'name': 'Daenerys Targaryen', 'text': 'It necessary. was'},\n",
       " {'name': 'Jon Snow',\n",
       "  'text': 'Children, Have Have Necessary? been burned! children, down little seen? there? you you'},\n",
       " {'name': 'Daenerys Targaryen',\n",
       "  'text': 'Cersei. I She She a against as cripple innocence it make me. me. peace their thought to tried used weapon with would'},\n",
       " {'name': 'Jon Snow', 'text': 'And Tyrion?'},\n",
       " {'name': 'Daenerys Targaryen',\n",
       "  'text': \"He How back behind broke conspired done enemies. even have heart? it my my people same the to treated when who've with you you, your\"},\n",
       " {'name': 'Jon Snow', 'text': 'Forgive him.'},\n",
       " {'name': 'Daenerys Targaryen', 'text': \"I can't.\"},\n",
       " {'name': 'Jon Snow',\n",
       "  'text': 'Dany. Make Please, You You a all can can. forgive made make mistake. of see them them them, they understand.'},\n",
       " {'name': 'Daenerys Targaryen',\n",
       "  'text': \"The We be behind built by can't have. hide loyal men mercies. need small the to we we won't world world\"},\n",
       " {'name': 'Jon Snow',\n",
       "  'text': 'It The a be. has is mercy. need of to we world world'},\n",
       " {'name': 'Daenerys Targaryen',\n",
       "  'text': \"A And It's be. been before. easy good it never not see something that's to will world.\"},\n",
       " {'name': 'Jon Snow',\n",
       "  'text': \"How How be do do good? it'll know know? you you\"},\n",
       " {'name': 'Daenerys Targaryen',\n",
       "  'text': 'And Because I do good. is know so what you.'},\n",
       " {'name': 'Jon Snow', 'text': \"I don't.\"},\n",
       " {'name': 'Daenerys Targaryen',\n",
       "  'text': \"You You You've always do. do. known.\"},\n",
       " {'name': 'Jon Snow',\n",
       "  'text': \"All What about else? everyone good. know other people the they think what's who\"},\n",
       " {'name': 'Daenerys Targaryen',\n",
       "  'text': \"20. Be Build I It They This We We a a a and bastard's been beginning, boy break choose. couldn't count do don't from get girl has is it little little me. me. name new our reason. since the the the to to together. together. was were wheel who with with with world you\"},\n",
       " {'name': 'Jon Snow', 'text': 'Now, You always. and are my queen.'},\n",
       " {'name': 'Sansa Stark', 'text': \"Jon? Where's\"},\n",
       " {'name': 'Grey Worm', 'text': 'He is our prisoner.'},\n",
       " {'name': 'Sansa Stark',\n",
       "  'text': 'Lord So They Tyrion. be both brought gathering. is this to to were'},\n",
       " {'name': 'Grey Worm',\n",
       "  'text': 'This We city decide do is now. our our prisoners. we what will with'},\n",
       " {'name': 'Sansa Stark',\n",
       "  'text': \"If Jon Northmen Snow city, explain find harming in interest. is look not of of outside the thousands to walls who why will you you you'll your your\"},\n",
       " {'name': 'Grey Worm',\n",
       "  'text': 'And Unsullied believe find is. it of that thousands who will you'},\n",
       " {'name': 'Yara Greyjoy',\n",
       "  'text': 'Daenerys I Ironborn Some Targaryen. The are be follow forgive. may not. of quick swore to to you'},\n",
       " {'name': 'Sansa Stark', 'text': 'You a follow swore to tyrant.'},\n",
       " {'name': 'Yara Greyjoy',\n",
       "  'text': 'Cersei Jon Let She Snow Unsullied a a and because deserves. freed from give gone he heart. her her, him in is knife of put the tyrant. us what'},\n",
       " {'name': 'Arya Stark',\n",
       "  'text': \"I'll Say about and another brother cut killing my throat. word your\"},\n",
       " {'name': 'Davos Seaworth',\n",
       "  'text': \"Am Friends, Good House I If Make Nudho. Reach. Start The There This Thousands Torgo Unsullied We We've We've You a a and are as bannermen. been better but can country cutting dead. debt each ends. enough enough. find for gone. had how in is it it it it know land land. let live long lost men, need never of of other's owes own own. people please. properly? repay, saying that that the the the the them. there thousands throats to to try. us used war war. way. we weren't with with would've you you you, your your your your\"},\n",
       " {'name': 'Grey Worm',\n",
       "  'text': 'Jon Snow We We cannot do free. go justice. need need not payment.'},\n",
       " {'name': 'Tyrion Lannister', 'text': \"It's decide. for not to you\"},\n",
       " {'name': 'Grey Worm',\n",
       "  'text': 'Everyone You are enough from has heard here not speak! to words you.'},\n",
       " {'name': 'Tyrion Lannister',\n",
       "  'text': \"And But His Jon Or You're any better committed crime decide. decide. fate for for for here. his is it's it. king no not one's our our queen. right. to to you\"},\n",
       " {'name': 'Yohn Royce', 'text': \"We a don't have king or queen.\"},\n",
       " {'name': 'Tyrion Lannister',\n",
       "  'text': \"Choose Westeros. You're in most one. people powerful the\"},\n",
       " {'name': 'Grey Worm', 'text': 'Make choice, then. your'},\n",
       " {'name': 'Edmure Tully',\n",
       "  'text': 'A And I I I My What and and annals as before country. decide experience has history. important in in is ladies... led like lives. lords lords moment most my of of of of one our reverberate senior skill small some stand statecraft suppose the the the the think this through to to today two underst... veteran wars. we will you'},\n",
       " {'name': 'Sansa Stark', 'text': 'Please Uncle? sit.'},\n",
       " {'name': 'Yohn Royce', 'text': 'Well, choose have someone. to we'},\n",
       " {'name': 'Samwell Tarly',\n",
       "  'text': \"Houses, Maybe Um, Um... We Why about ahem... all and be best but choose, decision everyone everyone. for great just just ladies. left lords over represent rule should the the they to... us? we well, what's whomever won't\"},\n",
       " {'name': 'Edmure Tully',\n",
       "  'text': 'Maybe a as dogs give should the vote we well.'},\n",
       " {'name': 'Yohn Royce', 'text': \"I'll ask horse. my\"},\n",
       " {'name': 'Edmure Tully', 'text': 'I crown. suppose the want you'},\n",
       " {'name': 'Tyrion Lannister',\n",
       "  'text': \"Can't Daenerys, Half Imp? Me? The a betraying choice. for for half hate hate her. me me of other people serving the the think worse\"},\n",
       " {'name': 'Davos Seaworth', 'text': 'Who, then?'},\n",
       " {'name': 'Tyrion Lannister',\n",
       "  'text': \"About About And Armies? Bran Broken? Flags? Gold? He He He I've No Nothing Our Raven. Stories. The The There's Three-Eyed Wall, What Who a a a a again, all and and became better better beyond births, bloody boy boy, but can can crippled crossed defeat defeats, do enemy famines. fell few fly. from future? good had has he he'd high history. in into is it. it. keeper knew lead learned lived. made. massacres, memory, mistakes mm, more never nothing nothing of our our our our our past past. people? powerful so stop stories. story. story... than than the the the the the the the these think to to to tower triumphs, unites us walk wars, we've weddings, weeks. who who world\"},\n",
       " {'name': 'Sansa Stark',\n",
       "  'text': \"Bran and can't children. father has he in interest no ruling\"},\n",
       " {'name': 'Tyrion Lannister',\n",
       "  'text': \"But From Good. His I I I Kingdoms Realm. Seven Sons That They Westeros... Will abilities about and and as ask be be be best born. break. by can care choose chosen crown? cruel day day? don't don't from if is it. kings know know know. ladies last lead lords never not now now, of of of on on, our power. queen rulers serve spot stupid, the the the the the the this this to to to torment until us. want wanted we wear well wheel will will will will you you you you you you you... your your\"},\n",
       " {'name': 'Bran Stark', 'text': 'I Why all came do think this way? you'},\n",
       " {'name': 'Tyrion Lannister',\n",
       "  'text': 'Brandon House I Stark... To aye. of say'},\n",
       " {'name': 'Samwell Tarly', 'text': 'Aye.'},\n",
       " {'name': 'Edmure Tully', 'text': 'Aye.'},\n",
       " {'name': 'Lord #1', 'text': 'Aye.'},\n",
       " {'name': 'Lord #2', 'text': 'Aye.'},\n",
       " {'name': 'Yohn Royce', 'text': 'Aye.'},\n",
       " {'name': 'Robin Arryn', 'text': 'Aye.'},\n",
       " {'name': 'Dornish Lord', 'text': 'Aye.'},\n",
       " {'name': 'Yara Greyjoy', 'text': 'Aye.'},\n",
       " {'name': 'Lord #3', 'text': 'Aye.'},\n",
       " {'name': 'Lord #4', 'text': 'Aye.'},\n",
       " {'name': 'Gendry', 'text': 'Aye.'},\n",
       " {'name': 'Davos Seaworth', 'text': \"I I'm a aye. but get not sure vote,\"},\n",
       " {'name': 'Brienne of Tarth', 'text': 'Aye.'},\n",
       " {'name': 'Sansa Stark',\n",
       "  'text': \"And But Great I I North Northmen The War Westeros. You'll a again. all always an and as be brother. defending ever fell for fought good hard have in independent it king. kingdom, kneel little love much of of of of remain seen survived tens the those thousands thousands to too too was who will will. years. you,\"},\n",
       " {'name': 'Tyrion Lannister',\n",
       "  'text': 'All Andals Bran Broken, First First His King Kingdoms Lord Men, Name, Protector Realm. Six and and hail of of of of the the the the the'},\n",
       " {'name': 'Samwell Tarly', 'text': 'All Bran Broken! hail the'},\n",
       " {'name': 'Edmure Tully', 'text': 'All Bran Broken! hail the'},\n",
       " {'name': 'Lord #1', 'text': 'All Bran Broken! hail the'},\n",
       " {'name': 'Lord #2', 'text': 'All Bran Broken! hail the'},\n",
       " {'name': 'Yohn Royce', 'text': 'All Bran Broken! hail the'},\n",
       " {'name': 'Robin Arryn', 'text': 'All Bran Broken! hail the'},\n",
       " {'name': 'Dornish Lord', 'text': 'All Bran Broken! hail the'},\n",
       " {'name': 'Yara Greyjoy', 'text': 'All Bran Broken! hail the'},\n",
       " {'name': 'Lord #3', 'text': 'All Bran Broken! hail the'},\n",
       " {'name': 'Lord #4', 'text': 'All Bran Broken! hail the'},\n",
       " {'name': 'Gendry', 'text': 'All Bran Broken! hail the'},\n",
       " {'name': 'Davos Seaworth', 'text': 'All Bran Broken! hail the'},\n",
       " {'name': 'Brienne of Tarth', 'text': 'All Bran Broken! hail the'},\n",
       " {'name': 'Bran Stark', 'text': 'Hand. Lord Tyrion... be my will you'},\n",
       " {'name': 'Tyrion Lannister', 'text': \"Grace, I N... No, Your don't it. want\"},\n",
       " {'name': 'Bran Stark', 'text': \"And I be don't king. to want\"},\n",
       " {'name': 'Tyrion Lannister',\n",
       "  'text': \"Choose Choose Davos. I I I I I I I Ser anyone but but deserve didn't. don't else. it. knew right, thought thought was was wasn't. what wise,\"},\n",
       " {'name': 'Bran Stark', 'text': 'I choose you.'},\n",
       " {'name': 'Grey Worm', 'text': 'You cannot.'},\n",
       " {'name': 'Bran Stark', 'text': \"I I'm Yes, can. king.\"},\n",
       " {'name': 'Grey Worm', 'text': 'He This a criminal. deserves is justice. man'},\n",
       " {'name': 'Bran Stark',\n",
       "  'text': \"He He's He's fixing going got his it. just life made many mistakes. of rest spend terrible the them. to\"},\n",
       " {'name': 'Grey Worm', 'text': 'It enough. is not'},\n",
       " {'name': 'Tyrion Lannister',\n",
       "  'text': \"Giving Letting Night's So Unsullied Watch. a a chosen free has king new our send start start the the to to to walk war. war. would would you you you\"},\n",
       " {'name': 'Jon Snow', 'text': \"Night's There's Watch? a still\"},\n",
       " {'name': 'Tyrion Lannister',\n",
       "  'text': \"Arya Grey I No Sansa The The Unsullied Which Worm You a a a accepted always and and bastards broken but but children. compromise, course, father for freed, good happy. has head hold home is it's justice king lands, life make means men. need needs new no no no of of one our peace. sentence. shall suppose. take the they to understand very wanted wanted wife, will world you your\"},\n",
       " {'name': 'Jon Snow', 'text': 'I Was What did? it right?'},\n",
       " {'name': 'Tyrion Lannister', 'text': 'What did. we'},\n",
       " {'name': 'Jon Snow', 'text': \"It doesn't feel right.\"},\n",
       " {'name': 'Tyrion Lannister', 'text': '10 Ask again in me years.'},\n",
       " {'name': 'Jon Snow',\n",
       "  'text': \"I again. don't each ever expect other see we'll\"},\n",
       " {'name': 'Tyrion Lannister',\n",
       "  'text': \"A Hand I King anyone as be edge few make of of off piss so sure. the the the to want world. would wouldn't years\"},\n",
       " {'lang': 'Astapori Valyrian',\n",
       "  'name': 'Unsullied #1',\n",
       "  'translation': 'All boarded. have men the',\n",
       "  'text': ''},\n",
       " {'lang': 'Astapori Valyrian',\n",
       "  'name': 'Grey Worm',\n",
       "  'translation': 'Good. Isle Naath. We for of sail the',\n",
       "  'text': ''},\n",
       " {'name': 'Sansa Stark',\n",
       "  'text': 'Can I another been forgive had me? there way. wish you'},\n",
       " {'name': 'Jon Snow', 'text': 'North The free, is thanks to you.'},\n",
       " {'name': 'Sansa Stark', 'text': 'But king. lost their they'},\n",
       " {'name': 'Jon Snow',\n",
       "  'text': \"Ned She's Stark's ask best could daughter for for. speak the them. they will\"},\n",
       " {'name': 'Jon Snow',\n",
       "  'text': 'Black. Castle You at can come know, me, see you'},\n",
       " {'name': 'Arya Stark', 'text': \"I can't.\"},\n",
       " {'name': 'Jon Snow',\n",
       "  'text': \"You allowed? anyone aren't dare tell think will women you\"},\n",
       " {'name': 'Arya Stark', 'text': \"I'm back going north. not\"},\n",
       " {'name': 'Sansa Stark', 'text': 'Where are going? you'},\n",
       " {'name': 'Arya Stark', 'text': \"Westeros? What's of west\"},\n",
       " {'name': 'Jon Snow', 'text': \"I don't know.\"},\n",
       " {'name': 'Arya Stark',\n",
       "  'text': \"I'm It's No That's all going. knows. maps one stop. the where where\"},\n",
       " {'name': 'Jon Snow', 'text': 'Needle? You have your'},\n",
       " {'name': 'Arya Stark', 'text': 'Right here.'},\n",
       " {'name': 'Jon Snow',\n",
       "  'text': \"Grace. I I'm Your me. needed sorry there wasn't when you\"},\n",
       " {'name': 'Bran Stark',\n",
       "  'text': 'You be. exactly supposed to were were where you'},\n",
       " {'name': 'Tyrion Lannister', 'text': \"That's Uh... What's not... this?\"},\n",
       " {'name': 'Samwell Tarly',\n",
       "  'text': '\"A Archmaester Ebrose\\'s Fire\". I Ice King Robert. Song and death following helped him history of of of the the the title. wars with'},\n",
       " {'name': 'Tyrion Lannister',\n",
       "  'text': 'I I come criticism. for heavy in some suppose'},\n",
       " {'name': 'Samwell Tarly', 'text': \"I Oh, say that. wouldn't\"},\n",
       " {'name': 'Tyrion Lannister',\n",
       "  'text': \"He's Never Oh, guessed. he's kind kind? me. not to would've\"},\n",
       " {'name': 'Samwell Tarly', 'text': 'He...'},\n",
       " {'name': 'Tyrion Lannister', 'text': 'He What about does he me? say what?'},\n",
       " {'name': 'Samwell Tarly', 'text': \"I ahem. believe don't mentioned, you're\"},\n",
       " {'name': 'Tyrion Lannister', 'text': 'Grace. Your'},\n",
       " {'name': 'Samwell Tarly', 'text': 'Grace. Your'},\n",
       " {'name': 'Bronn', 'text': 'Grace. Your'},\n",
       " {'name': 'Davos Seaworth', 'text': 'Grace. Your'},\n",
       " {'name': 'Bran Stark',\n",
       "  'text': 'And And Laws. Master Master Master War. We Whisperers. a a a appear be missing of of of to'},\n",
       " {'name': 'Tyrion Lannister',\n",
       "  'text': 'Grace. Suitable Yes, Your an audience be brought coming for in prospects the to weeks. will you'},\n",
       " {'name': 'Bran Stark', 'text': 'And Any Drogon? word?'},\n",
       " {'name': 'Samwell Tarly',\n",
       "  'text': 'He east, flying last spotted toward... was'},\n",
       " {'name': 'Bronn', 'text': 'The away, better. farther the'},\n",
       " {'name': 'Bran Stark',\n",
       "  'text': 'Do I Perhaps can carry find him. on rest. the with'},\n",
       " {'name': 'Tyrion Lannister', 'text': 'As Grace. Your wish, you'},\n",
       " {'name': 'Brienne of Tarth', 'text': 'Podrick. Ser'},\n",
       " {'name': 'Tyrion Lannister',\n",
       "  'text': 'Bran Broken, King Kingdoms Long Protector Realm. Six We and at he may of of pleasure, reign. ruler serve the the the your'},\n",
       " {'name': 'Samwell Tarly', 'text': 'Long he may reign.'},\n",
       " {'name': 'Davos Seaworth', 'text': 'Long he may reign.'},\n",
       " {'name': 'Brienne of Tarth', 'text': 'Long he may reign.'},\n",
       " {'name': 'Bronn', 'text': 'Long he may reign.'},\n",
       " {'name': 'Tyrion Lannister', 'text': 'That improve. will'},\n",
       " {'name': 'Bran Stark', 'text': \"I'm it sure will.\"},\n",
       " {'name': 'Tyrion Lannister',\n",
       "  'text': \"Blackwater, Bronn Coin, Crown's Highgarden, Lord Lord Master Paramount Reach Ser and been debt has of of of of paid? say the the the to would you you\"},\n",
       " {'name': 'Bronn', 'text': 'Hand. In Lord full, my'},\n",
       " {'name': 'Tyrion Lannister',\n",
       "  'text': 'Can Good. Time We a assistance expect feed. have hungry in incurring new one. people regard? some start this to to we'},\n",
       " {'name': 'Bronn', 'text': 'Indeed can. we'},\n",
       " {'name': 'Tyrion Lannister',\n",
       "  'text': 'Davos, Lord an and armada have ports rebuild repair. to to we'},\n",
       " {'name': 'Davos Seaworth',\n",
       "  'text': 'Coin Lofty Lord Master These Titles We and as as begin funding. have. of of projects provides soon the will'},\n",
       " {'name': 'Bronn',\n",
       "  'text': \"Coin Master Master Ships, The be but coin, coin. ensure first forward has he helping looks more no not of of or soon the there to to wasting we're won't\"},\n",
       " {'name': 'Davos Seaworth', 'text': '\"Any more.\"'},\n",
       " {'name': 'Bronn', 'text': 'Grammar Master You now, of too?'},\n",
       " {'name': 'Tyrion Lannister',\n",
       "  'text': 'Casterly Grandmaester, Rock a ahem, based clean healthier is it leads my my of on on population. sewers, that the theory, to water work years'},\n",
       " {'name': 'Samwell Tarly',\n",
       "  'text': 'Archmaester The and done has it on out... research some subject this turns'},\n",
       " {'name': 'Bronn', 'text': \"The and don't. live strong the weak\"},\n",
       " {'name': 'Tyrion Lannister',\n",
       "  'text': 'Find and best builders set task. the the them to'},\n",
       " {'name': 'Bronn',\n",
       "  'text': 'Coin Master Oh, The all best brothels builders, burned down. fund is of of reconstruction. speaking the to willing'},\n",
       " {'name': 'Samwell Tarly',\n",
       "  'text': 'Archmaester Uh... about brothels. effects enthusiastic is less of salutary than the the'},\n",
       " {'name': 'Bronn', 'text': \"I Well, he imagine isn't properly. them using\"},\n",
       " {'name': 'Brienne of Tarth',\n",
       "  'text': 'I agree all brothels. can over precedence ships take that think we'},\n",
       " {'name': 'Bronn', 'text': \"I a presumptuous statement. that's think very\"},\n",
       " {'name': 'Tyrion Lannister',\n",
       "  'text': 'I a a a and brothel. brought honeycomb into jackass once'},\n",
       " {'name': 'Stark Bannerman', 'text': 'North! Queen The in the'},\n",
       " {'name': 'Stark Bannermen',\n",
       "  'text': 'North! North! North! North! North! Queen Queen Queen Queen Queen The The The The The in in in in in the the the the the'}]"
      ]
     },
     "execution_count": 11,
     "metadata": {},
     "output_type": "execute_result"
    }
   ],
   "source": [
    "df.iloc[-1]['text']"
   ]
  },
  {
   "cell_type": "code",
   "execution_count": 13,
   "metadata": {
    "id": "GnrODwkLDaDo"
   },
   "outputs": [],
   "source": [
    "dialouge = {}\n",
    "for index, row in df.iterrows():\n",
    "    for item in row['text']:\n",
    "        if item['name'] in dialouge:\n",
    "            # append\n",
    "            dialouge[item['name']] = dialouge[item['name']] + item['text']\n",
    "        else:\n",
    "            # create character\n",
    "            dialouge[item['name']] = item['text'] + \" \""
   ]
  },
  {
   "cell_type": "code",
   "execution_count": 15,
   "metadata": {
    "colab": {
     "base_uri": "https://localhost:8080/"
    },
    "id": "h3QpZBE5EsEf",
    "outputId": "abf6ac37-f8a9-47ec-9d9b-f86398f42f45"
   },
   "outputs": [
    {
     "data": {
      "text/plain": [
       "817"
      ]
     },
     "execution_count": 15,
     "metadata": {},
     "output_type": "execute_result"
    }
   ],
   "source": [
    "len(dialouge)"
   ]
  },
  {
   "cell_type": "code",
   "execution_count": 17,
   "metadata": {
    "id": "AyMXZ7O5Eyt9"
   },
   "outputs": [],
   "source": [
    "new_df = pd.DataFrame()\n",
    "new_df['character'] = dialouge.keys()\n",
    "new_df['words'] = dialouge.values()"
   ]
  },
  {
   "cell_type": "code",
   "execution_count": 19,
   "metadata": {
    "colab": {
     "base_uri": "https://localhost:8080/",
     "height": 206
    },
    "id": "5yuQmCTbE4Dq",
    "outputId": "987c363c-c5f8-4df0-93de-896b6732152d"
   },
   "outputs": [
    {
     "data": {
      "text/html": [
       "<div>\n",
       "<style scoped>\n",
       "    .dataframe tbody tr th:only-of-type {\n",
       "        vertical-align: middle;\n",
       "    }\n",
       "\n",
       "    .dataframe tbody tr th {\n",
       "        vertical-align: top;\n",
       "    }\n",
       "\n",
       "    .dataframe thead th {\n",
       "        text-align: right;\n",
       "    }\n",
       "</style>\n",
       "<table border=\"1\" class=\"dataframe\">\n",
       "  <thead>\n",
       "    <tr style=\"text-align: right;\">\n",
       "      <th></th>\n",
       "      <th>character</th>\n",
       "      <th>words</th>\n",
       "    </tr>\n",
       "  </thead>\n",
       "  <tbody>\n",
       "    <tr>\n",
       "      <th>0</th>\n",
       "      <td>Will</td>\n",
       "      <td>Easy, boy. I've I've Wildlings a a do ever in ...</td>\n",
       "    </tr>\n",
       "    <tr>\n",
       "      <th>1</th>\n",
       "      <td>Waymar Royce</td>\n",
       "      <td>One They're What a and another before d'you ea...</td>\n",
       "    </tr>\n",
       "    <tr>\n",
       "      <th>2</th>\n",
       "      <td>Gared</td>\n",
       "      <td>Wall. We back head should the to Our They We W...</td>\n",
       "    </tr>\n",
       "    <tr>\n",
       "      <th>3</th>\n",
       "      <td>Jon Snow</td>\n",
       "      <td>Father's Go on. watching. And mother. yourBran...</td>\n",
       "    </tr>\n",
       "    <tr>\n",
       "      <th>4</th>\n",
       "      <td>Septa Mordane</td>\n",
       "      <td>Fine Well always. as done. work, I Quite beaut...</td>\n",
       "    </tr>\n",
       "  </tbody>\n",
       "</table>\n",
       "</div>"
      ],
      "text/plain": [
       "       character                                              words\n",
       "0           Will  Easy, boy. I've I've Wildlings a a do ever in ...\n",
       "1   Waymar Royce  One They're What a and another before d'you ea...\n",
       "2          Gared  Wall. We back head should the to Our They We W...\n",
       "3       Jon Snow  Father's Go on. watching. And mother. yourBran...\n",
       "4  Septa Mordane  Fine Well always. as done. work, I Quite beaut..."
      ]
     },
     "execution_count": 19,
     "metadata": {},
     "output_type": "execute_result"
    }
   ],
   "source": [
    "new_df.head()"
   ]
  },
  {
   "cell_type": "code",
   "execution_count": 21,
   "metadata": {
    "id": "wfq37QnxE6jC"
   },
   "outputs": [],
   "source": [
    "new_df['num_words'] = new_df['words'].apply(lambda x:len(x.split()))"
   ]
  },
  {
   "cell_type": "code",
   "execution_count": 23,
   "metadata": {
    "id": "tcrNB7sLHI2_"
   },
   "outputs": [],
   "source": [
    "new_df = new_df.sort_values('num_words',ascending=False)"
   ]
  },
  {
   "cell_type": "code",
   "execution_count": 25,
   "metadata": {
    "id": "cP4hqum5HSak"
   },
   "outputs": [],
   "source": [
    "new_df= new_df.head(150)"
   ]
  },
  {
   "cell_type": "code",
   "execution_count": 27,
   "metadata": {
    "colab": {
     "base_uri": "https://localhost:8080/",
     "height": 224
    },
    "id": "Xm4wW-D8HfjG",
    "outputId": "32b09fc7-c060-46a7-f29e-42ca77a8c413"
   },
   "outputs": [
    {
     "name": "stdout",
     "output_type": "stream",
     "text": [
      "(150, 3)\n"
     ]
    },
    {
     "data": {
      "text/html": [
       "<div>\n",
       "<style scoped>\n",
       "    .dataframe tbody tr th:only-of-type {\n",
       "        vertical-align: middle;\n",
       "    }\n",
       "\n",
       "    .dataframe tbody tr th {\n",
       "        vertical-align: top;\n",
       "    }\n",
       "\n",
       "    .dataframe thead th {\n",
       "        text-align: right;\n",
       "    }\n",
       "</style>\n",
       "<table border=\"1\" class=\"dataframe\">\n",
       "  <thead>\n",
       "    <tr style=\"text-align: right;\">\n",
       "      <th></th>\n",
       "      <th>character</th>\n",
       "      <th>words</th>\n",
       "      <th>num_words</th>\n",
       "    </tr>\n",
       "  </thead>\n",
       "  <tbody>\n",
       "    <tr>\n",
       "      <th>17</th>\n",
       "      <td>Tyrion Lannister</td>\n",
       "      <td>It Mmh. Northern about girls. is say the they ...</td>\n",
       "      <td>25924</td>\n",
       "    </tr>\n",
       "    <tr>\n",
       "      <th>13</th>\n",
       "      <td>Cersei Lannister</td>\n",
       "      <td>And And Casterly One Rock. When about afraid. ...</td>\n",
       "      <td>14294</td>\n",
       "    </tr>\n",
       "    <tr>\n",
       "      <th>3</th>\n",
       "      <td>Jon Snow</td>\n",
       "      <td>Father's Go on. watching. And mother. yourBran...</td>\n",
       "      <td>11488</td>\n",
       "    </tr>\n",
       "    <tr>\n",
       "      <th>20</th>\n",
       "      <td>Daenerys Targaryen</td>\n",
       "      <td>We've a and anything. asked been for for guest...</td>\n",
       "      <td>11202</td>\n",
       "    </tr>\n",
       "    <tr>\n",
       "      <th>12</th>\n",
       "      <td>Jaime Lannister</td>\n",
       "      <td>As I It's brother, duty feel it's much. my sho...</td>\n",
       "      <td>10823</td>\n",
       "    </tr>\n",
       "  </tbody>\n",
       "</table>\n",
       "</div>"
      ],
      "text/plain": [
       "             character                                              words  \\\n",
       "17    Tyrion Lannister  It Mmh. Northern about girls. is say the they ...   \n",
       "13    Cersei Lannister  And And Casterly One Rock. When about afraid. ...   \n",
       "3             Jon Snow  Father's Go on. watching. And mother. yourBran...   \n",
       "20  Daenerys Targaryen  We've a and anything. asked been for for guest...   \n",
       "12     Jaime Lannister  As I It's brother, duty feel it's much. my sho...   \n",
       "\n",
       "    num_words  \n",
       "17      25924  \n",
       "13      14294  \n",
       "3       11488  \n",
       "20      11202  \n",
       "12      10823  "
      ]
     },
     "execution_count": 27,
     "metadata": {},
     "output_type": "execute_result"
    }
   ],
   "source": [
    "print(new_df.shape)\n",
    "new_df.head()"
   ]
  },
  {
   "cell_type": "code",
   "execution_count": 29,
   "metadata": {
    "id": "kFQ0oHy_HqPE"
   },
   "outputs": [],
   "source": [
    "from sklearn.feature_extraction.text import CountVectorizer\n",
    "cv = CountVectorizer(stop_words='english')"
   ]
  },
  {
   "cell_type": "code",
   "execution_count": 31,
   "metadata": {
    "id": "fuH0Uja5IzK4"
   },
   "outputs": [],
   "source": [
    "embeddings = cv.fit_transform(new_df['words']).toarray()"
   ]
  },
  {
   "cell_type": "code",
   "execution_count": 33,
   "metadata": {
    "colab": {
     "base_uri": "https://localhost:8080/"
    },
    "id": "4pL420tfKClm",
    "outputId": "e219e31e-9c37-49ca-d6a5-82a8f01f3108"
   },
   "outputs": [
    {
     "name": "stdout",
     "output_type": "stream",
     "text": [
      "(150, 16225)\n"
     ]
    }
   ],
   "source": [
    "print(embeddings.shape)"
   ]
  },
  {
   "cell_type": "code",
   "execution_count": 35,
   "metadata": {
    "id": "2I_6XOisI4Es"
   },
   "outputs": [],
   "source": [
    "embeddings = embeddings.astype('float64')"
   ]
  },
  {
   "cell_type": "code",
   "execution_count": 37,
   "metadata": {
    "id": "9dZpllPZJDt_"
   },
   "outputs": [],
   "source": [
    "from sklearn.manifold import TSNE"
   ]
  },
  {
   "cell_type": "code",
   "execution_count": 39,
   "metadata": {
    "colab": {
     "base_uri": "https://localhost:8080/"
    },
    "id": "c5PyxtJ3JPVN",
    "outputId": "f2a6fe65-422b-48db-bd7c-20f698e5ef26"
   },
   "outputs": [
    {
     "name": "stdout",
     "output_type": "stream",
     "text": [
      "[t-SNE] Computing 91 nearest neighbors...\n",
      "[t-SNE] Indexed 150 samples in 0.004s...\n",
      "[t-SNE] Computed neighbors for 150 samples in 0.686s...\n",
      "[t-SNE] Computed conditional probabilities for sample 150 / 150\n",
      "[t-SNE] Mean sigma: 8.446655\n",
      "[t-SNE] KL divergence after 250 iterations with early exaggeration: 69.383209\n",
      "[t-SNE] KL divergence after 800 iterations: 0.520230\n"
     ]
    }
   ],
   "source": [
    "tsne = TSNE(n_components=2, verbose=1, random_state=123)\n",
    "z = tsne.fit_transform(embeddings)"
   ]
  },
  {
   "cell_type": "code",
   "execution_count": 41,
   "metadata": {
    "colab": {
     "base_uri": "https://localhost:8080/"
    },
    "id": "LBk-_lasKX-e",
    "outputId": "257cf1b8-9b42-40d0-fcd0-605b3b623136"
   },
   "outputs": [
    {
     "data": {
      "text/plain": [
       "(150, 2)"
      ]
     },
     "execution_count": 41,
     "metadata": {},
     "output_type": "execute_result"
    }
   ],
   "source": [
    "z.shape"
   ]
  },
  {
   "cell_type": "code",
   "execution_count": 43,
   "metadata": {
    "id": "xEOf1_zFKgMB"
   },
   "outputs": [],
   "source": [
    "new_df['x'] = z.T[0]\n",
    "new_df['y'] = z.T[1]"
   ]
  },
  {
   "cell_type": "code",
   "execution_count": 45,
   "metadata": {
    "colab": {
     "base_uri": "https://localhost:8080/",
     "height": 580
    },
    "id": "efGkbqCnKmKX",
    "outputId": "f4db75ba-01a6-417c-ed3c-c373e1b5e2cb"
   },
   "outputs": [
    {
     "data": {
      "text/html": [
       "<div>\n",
       "<style scoped>\n",
       "    .dataframe tbody tr th:only-of-type {\n",
       "        vertical-align: middle;\n",
       "    }\n",
       "\n",
       "    .dataframe tbody tr th {\n",
       "        vertical-align: top;\n",
       "    }\n",
       "\n",
       "    .dataframe thead th {\n",
       "        text-align: right;\n",
       "    }\n",
       "</style>\n",
       "<table border=\"1\" class=\"dataframe\">\n",
       "  <thead>\n",
       "    <tr style=\"text-align: right;\">\n",
       "      <th></th>\n",
       "      <th>character</th>\n",
       "      <th>words</th>\n",
       "      <th>num_words</th>\n",
       "      <th>x</th>\n",
       "      <th>y</th>\n",
       "    </tr>\n",
       "  </thead>\n",
       "  <tbody>\n",
       "    <tr>\n",
       "      <th>17</th>\n",
       "      <td>Tyrion Lannister</td>\n",
       "      <td>It Mmh. Northern about girls. is say the they ...</td>\n",
       "      <td>25924</td>\n",
       "      <td>-1.492993</td>\n",
       "      <td>5.126384</td>\n",
       "    </tr>\n",
       "    <tr>\n",
       "      <th>13</th>\n",
       "      <td>Cersei Lannister</td>\n",
       "      <td>And And Casterly One Rock. When about afraid. ...</td>\n",
       "      <td>14294</td>\n",
       "      <td>-1.486942</td>\n",
       "      <td>4.897776</td>\n",
       "    </tr>\n",
       "    <tr>\n",
       "      <th>3</th>\n",
       "      <td>Jon Snow</td>\n",
       "      <td>Father's Go on. watching. And mother. yourBran...</td>\n",
       "      <td>11488</td>\n",
       "      <td>-1.290652</td>\n",
       "      <td>4.814851</td>\n",
       "    </tr>\n",
       "    <tr>\n",
       "      <th>20</th>\n",
       "      <td>Daenerys Targaryen</td>\n",
       "      <td>We've a and anything. asked been for for guest...</td>\n",
       "      <td>11202</td>\n",
       "      <td>-1.755230</td>\n",
       "      <td>4.409145</td>\n",
       "    </tr>\n",
       "    <tr>\n",
       "      <th>12</th>\n",
       "      <td>Jaime Lannister</td>\n",
       "      <td>As I It's brother, duty feel it's much. my sho...</td>\n",
       "      <td>10823</td>\n",
       "      <td>-1.394697</td>\n",
       "      <td>4.736664</td>\n",
       "    </tr>\n",
       "    <tr>\n",
       "      <th>...</th>\n",
       "      <td>...</td>\n",
       "      <td>...</td>\n",
       "      <td>...</td>\n",
       "      <td>...</td>\n",
       "      <td>...</td>\n",
       "    </tr>\n",
       "    <tr>\n",
       "      <th>54</th>\n",
       "      <td>Rakharo</td>\n",
       "      <td>Hash Khaleesi? addrivat mae, shafka zali zhey ...</td>\n",
       "      <td>174</td>\n",
       "      <td>1.683645</td>\n",
       "      <td>-5.158489</td>\n",
       "    </tr>\n",
       "    <tr>\n",
       "      <th>184</th>\n",
       "      <td>Lannister Soldier #3</td>\n",
       "      <td>Bring about! her Come You You're a be cold gon...</td>\n",
       "      <td>165</td>\n",
       "      <td>0.628235</td>\n",
       "      <td>-2.780954</td>\n",
       "    </tr>\n",
       "    <tr>\n",
       "      <th>324</th>\n",
       "      <td>Black Walder Rivers</td>\n",
       "      <td>But King North The and are bandits. come. craw...</td>\n",
       "      <td>159</td>\n",
       "      <td>0.536279</td>\n",
       "      <td>-2.642677</td>\n",
       "    </tr>\n",
       "    <tr>\n",
       "      <th>247</th>\n",
       "      <td>Rattleshirt</td>\n",
       "      <td>Don't I already crow. got need one two. Gut Ha...</td>\n",
       "      <td>157</td>\n",
       "      <td>0.300764</td>\n",
       "      <td>-2.512382</td>\n",
       "    </tr>\n",
       "    <tr>\n",
       "      <th>414</th>\n",
       "      <td>Anya Waynwood</td>\n",
       "      <td>Arryn's Her Lady Yes, affair. affair. all clos...</td>\n",
       "      <td>154</td>\n",
       "      <td>0.648048</td>\n",
       "      <td>-2.633065</td>\n",
       "    </tr>\n",
       "  </tbody>\n",
       "</table>\n",
       "<p>150 rows × 5 columns</p>\n",
       "</div>"
      ],
      "text/plain": [
       "                character                                              words  \\\n",
       "17       Tyrion Lannister  It Mmh. Northern about girls. is say the they ...   \n",
       "13       Cersei Lannister  And And Casterly One Rock. When about afraid. ...   \n",
       "3                Jon Snow  Father's Go on. watching. And mother. yourBran...   \n",
       "20     Daenerys Targaryen  We've a and anything. asked been for for guest...   \n",
       "12        Jaime Lannister  As I It's brother, duty feel it's much. my sho...   \n",
       "..                    ...                                                ...   \n",
       "54                Rakharo  Hash Khaleesi? addrivat mae, shafka zali zhey ...   \n",
       "184  Lannister Soldier #3  Bring about! her Come You You're a be cold gon...   \n",
       "324   Black Walder Rivers  But King North The and are bandits. come. craw...   \n",
       "247           Rattleshirt  Don't I already crow. got need one two. Gut Ha...   \n",
       "414         Anya Waynwood  Arryn's Her Lady Yes, affair. affair. all clos...   \n",
       "\n",
       "     num_words         x         y  \n",
       "17       25924 -1.492993  5.126384  \n",
       "13       14294 -1.486942  4.897776  \n",
       "3        11488 -1.290652  4.814851  \n",
       "20       11202 -1.755230  4.409145  \n",
       "12       10823 -1.394697  4.736664  \n",
       "..         ...       ...       ...  \n",
       "54         174  1.683645 -5.158489  \n",
       "184        165  0.628235 -2.780954  \n",
       "324        159  0.536279 -2.642677  \n",
       "247        157  0.300764 -2.512382  \n",
       "414        154  0.648048 -2.633065  \n",
       "\n",
       "[150 rows x 5 columns]"
      ]
     },
     "execution_count": 45,
     "metadata": {},
     "output_type": "execute_result"
    }
   ],
   "source": [
    "new_df"
   ]
  },
  {
   "cell_type": "code",
   "execution_count": 49,
   "metadata": {
    "colab": {
     "base_uri": "https://localhost:8080/",
     "height": 542
    },
    "id": "ZXzoSk6YKoim",
    "outputId": "39a59deb-e60d-4f4d-9a4f-8adadaa37dda"
   },
   "outputs": [
    {
     "data": {
      "application/vnd.plotly.v1+json": {
       "config": {
        "plotlyServerURL": "https://plot.ly"
       },
       "data": [
        {
         "hovertemplate": "character=Tyrion Lannister<br>x=%{x}<br>y=%{y}<extra></extra>",
         "legendgroup": "Tyrion Lannister",
         "marker": {
          "color": "#636efa",
          "symbol": "circle"
         },
         "mode": "markers",
         "name": "Tyrion Lannister",
         "orientation": "v",
         "showlegend": true,
         "type": "scatter",
         "x": [
          -1.4929929971694946
         ],
         "xaxis": "x",
         "y": [
          5.126384258270264
         ],
         "yaxis": "y"
        },
        {
         "hovertemplate": "character=Cersei Lannister<br>x=%{x}<br>y=%{y}<extra></extra>",
         "legendgroup": "Cersei Lannister",
         "marker": {
          "color": "#EF553B",
          "symbol": "circle"
         },
         "mode": "markers",
         "name": "Cersei Lannister",
         "orientation": "v",
         "showlegend": true,
         "type": "scatter",
         "x": [
          -1.4869420528411865
         ],
         "xaxis": "x",
         "y": [
          4.897776126861572
         ],
         "yaxis": "y"
        },
        {
         "hovertemplate": "character=Jon Snow<br>x=%{x}<br>y=%{y}<extra></extra>",
         "legendgroup": "Jon Snow",
         "marker": {
          "color": "#00cc96",
          "symbol": "circle"
         },
         "mode": "markers",
         "name": "Jon Snow",
         "orientation": "v",
         "showlegend": true,
         "type": "scatter",
         "x": [
          -1.290651798248291
         ],
         "xaxis": "x",
         "y": [
          4.814850807189941
         ],
         "yaxis": "y"
        },
        {
         "hovertemplate": "character=Daenerys Targaryen<br>x=%{x}<br>y=%{y}<extra></extra>",
         "legendgroup": "Daenerys Targaryen",
         "marker": {
          "color": "#ab63fa",
          "symbol": "circle"
         },
         "mode": "markers",
         "name": "Daenerys Targaryen",
         "orientation": "v",
         "showlegend": true,
         "type": "scatter",
         "x": [
          -1.755230188369751
         ],
         "xaxis": "x",
         "y": [
          4.409144878387451
         ],
         "yaxis": "y"
        },
        {
         "hovertemplate": "character=Jaime Lannister<br>x=%{x}<br>y=%{y}<extra></extra>",
         "legendgroup": "Jaime Lannister",
         "marker": {
          "color": "#FFA15A",
          "symbol": "circle"
         },
         "mode": "markers",
         "name": "Jaime Lannister",
         "orientation": "v",
         "showlegend": true,
         "type": "scatter",
         "x": [
          -1.3946971893310547
         ],
         "xaxis": "x",
         "y": [
          4.736663818359375
         ],
         "yaxis": "y"
        },
        {
         "hovertemplate": "character=Sansa Stark<br>x=%{x}<br>y=%{y}<extra></extra>",
         "legendgroup": "Sansa Stark",
         "marker": {
          "color": "#19d3f3",
          "symbol": "circle"
         },
         "mode": "markers",
         "name": "Sansa Stark",
         "orientation": "v",
         "showlegend": true,
         "type": "scatter",
         "x": [
          -1.3547377586364746
         ],
         "xaxis": "x",
         "y": [
          4.438361644744873
         ],
         "yaxis": "y"
        },
        {
         "hovertemplate": "character=Petyr Baelish<br>x=%{x}<br>y=%{y}<extra></extra>",
         "legendgroup": "Petyr Baelish",
         "marker": {
          "color": "#FF6692",
          "symbol": "circle"
         },
         "mode": "markers",
         "name": "Petyr Baelish",
         "orientation": "v",
         "showlegend": true,
         "type": "scatter",
         "x": [
          -1.7203319072723389
         ],
         "xaxis": "x",
         "y": [
          4.071101188659668
         ],
         "yaxis": "y"
        },
        {
         "hovertemplate": "character=Lord Varys<br>x=%{x}<br>y=%{y}<extra></extra>",
         "legendgroup": "Lord Varys",
         "marker": {
          "color": "#B6E880",
          "symbol": "circle"
         },
         "mode": "markers",
         "name": "Lord Varys",
         "orientation": "v",
         "showlegend": true,
         "type": "scatter",
         "x": [
          -1.7621372938156128
         ],
         "xaxis": "x",
         "y": [
          3.942927598953247
         ],
         "yaxis": "y"
        },
        {
         "hovertemplate": "character=Davos Seaworth<br>x=%{x}<br>y=%{y}<extra></extra>",
         "legendgroup": "Davos Seaworth",
         "marker": {
          "color": "#FF97FF",
          "symbol": "circle"
         },
         "mode": "markers",
         "name": "Davos Seaworth",
         "orientation": "v",
         "showlegend": true,
         "type": "scatter",
         "x": [
          -1.6115587949752808
         ],
         "xaxis": "x",
         "y": [
          3.707535743713379
         ],
         "yaxis": "y"
        },
        {
         "hovertemplate": "character=Samwell Tarly<br>x=%{x}<br>y=%{y}<extra></extra>",
         "legendgroup": "Samwell Tarly",
         "marker": {
          "color": "#FECB52",
          "symbol": "circle"
         },
         "mode": "markers",
         "name": "Samwell Tarly",
         "orientation": "v",
         "showlegend": true,
         "type": "scatter",
         "x": [
          -0.6425979733467102
         ],
         "xaxis": "x",
         "y": [
          3.623063564300537
         ],
         "yaxis": "y"
        },
        {
         "hovertemplate": "character=Arya Stark<br>x=%{x}<br>y=%{y}<extra></extra>",
         "legendgroup": "Arya Stark",
         "marker": {
          "color": "#636efa",
          "symbol": "circle"
         },
         "mode": "markers",
         "name": "Arya Stark",
         "orientation": "v",
         "showlegend": true,
         "type": "scatter",
         "x": [
          -0.6690286993980408
         ],
         "xaxis": "x",
         "y": [
          4.0689778327941895
         ],
         "yaxis": "y"
        },
        {
         "hovertemplate": "character=Tywin Lannister<br>x=%{x}<br>y=%{y}<extra></extra>",
         "legendgroup": "Tywin Lannister",
         "marker": {
          "color": "#EF553B",
          "symbol": "circle"
         },
         "mode": "markers",
         "name": "Tywin Lannister",
         "orientation": "v",
         "showlegend": true,
         "type": "scatter",
         "x": [
          -2.0676960945129395
         ],
         "xaxis": "x",
         "y": [
          2.9774298667907715
         ],
         "yaxis": "y"
        },
        {
         "hovertemplate": "character=Theon Greyjoy<br>x=%{x}<br>y=%{y}<extra></extra>",
         "legendgroup": "Theon Greyjoy",
         "marker": {
          "color": "#00cc96",
          "symbol": "circle"
         },
         "mode": "markers",
         "name": "Theon Greyjoy",
         "orientation": "v",
         "showlegend": true,
         "type": "scatter",
         "x": [
          -0.9462049603462219
         ],
         "xaxis": "x",
         "y": [
          3.649153709411621
         ],
         "yaxis": "y"
        },
        {
         "hovertemplate": "character=Jorah Mormont<br>x=%{x}<br>y=%{y}<extra></extra>",
         "legendgroup": "Jorah Mormont",
         "marker": {
          "color": "#ab63fa",
          "symbol": "circle"
         },
         "mode": "markers",
         "name": "Jorah Mormont",
         "orientation": "v",
         "showlegend": true,
         "type": "scatter",
         "x": [
          -2.4839563369750977
         ],
         "xaxis": "x",
         "y": [
          2.5040395259857178
         ],
         "yaxis": "y"
        },
        {
         "hovertemplate": "character=Bronn<br>x=%{x}<br>y=%{y}<extra></extra>",
         "legendgroup": "Bronn",
         "marker": {
          "color": "#FFA15A",
          "symbol": "circle"
         },
         "mode": "markers",
         "name": "Bronn",
         "orientation": "v",
         "showlegend": true,
         "type": "scatter",
         "x": [
          -0.046283211559057236
         ],
         "xaxis": "x",
         "y": [
          3.528468370437622
         ],
         "yaxis": "y"
        },
        {
         "hovertemplate": "character=Olenna Tyrell<br>x=%{x}<br>y=%{y}<extra></extra>",
         "legendgroup": "Olenna Tyrell",
         "marker": {
          "color": "#19d3f3",
          "symbol": "circle"
         },
         "mode": "markers",
         "name": "Olenna Tyrell",
         "orientation": "v",
         "showlegend": true,
         "type": "scatter",
         "x": [
          -1.9375146627426147
         ],
         "xaxis": "x",
         "y": [
          1.575617790222168
         ],
         "yaxis": "y"
        },
        {
         "hovertemplate": "character=Brienne of Tarth<br>x=%{x}<br>y=%{y}<extra></extra>",
         "legendgroup": "Brienne of Tarth",
         "marker": {
          "color": "#FF6692",
          "symbol": "circle"
         },
         "mode": "markers",
         "name": "Brienne of Tarth",
         "orientation": "v",
         "showlegend": true,
         "type": "scatter",
         "x": [
          -1.2592872381210327
         ],
         "xaxis": "x",
         "y": [
          2.4662551879882812
         ],
         "yaxis": "y"
        },
        {
         "hovertemplate": "character=Sandor Clegane<br>x=%{x}<br>y=%{y}<extra></extra>",
         "legendgroup": "Sandor Clegane",
         "marker": {
          "color": "#B6E880",
          "symbol": "circle"
         },
         "mode": "markers",
         "name": "Sandor Clegane",
         "orientation": "v",
         "showlegend": true,
         "type": "scatter",
         "x": [
          0.02366035059094429
         ],
         "xaxis": "x",
         "y": [
          3.4963018894195557
         ],
         "yaxis": "y"
        },
        {
         "hovertemplate": "character=Robb Stark<br>x=%{x}<br>y=%{y}<extra></extra>",
         "legendgroup": "Robb Stark",
         "marker": {
          "color": "#FF97FF",
          "symbol": "circle"
         },
         "mode": "markers",
         "name": "Robb Stark",
         "orientation": "v",
         "showlegend": true,
         "type": "scatter",
         "x": [
          -1.1768560409545898
         ],
         "xaxis": "x",
         "y": [
          3.2921347618103027
         ],
         "yaxis": "y"
        },
        {
         "hovertemplate": "character=Stannis Baratheon<br>x=%{x}<br>y=%{y}<extra></extra>",
         "legendgroup": "Stannis Baratheon",
         "marker": {
          "color": "#FECB52",
          "symbol": "circle"
         },
         "mode": "markers",
         "name": "Stannis Baratheon",
         "orientation": "v",
         "showlegend": true,
         "type": "scatter",
         "x": [
          -1.5138829946517944
         ],
         "xaxis": "x",
         "y": [
          2.908151626586914
         ],
         "yaxis": "y"
        },
        {
         "hovertemplate": "character=Margaery Tyrell<br>x=%{x}<br>y=%{y}<extra></extra>",
         "legendgroup": "Margaery Tyrell",
         "marker": {
          "color": "#636efa",
          "symbol": "circle"
         },
         "mode": "markers",
         "name": "Margaery Tyrell",
         "orientation": "v",
         "showlegend": true,
         "type": "scatter",
         "x": [
          -2.3505959510803223
         ],
         "xaxis": "x",
         "y": [
          1.4095832109451294
         ],
         "yaxis": "y"
        },
        {
         "hovertemplate": "character=Catelyn Stark<br>x=%{x}<br>y=%{y}<extra></extra>",
         "legendgroup": "Catelyn Stark",
         "marker": {
          "color": "#EF553B",
          "symbol": "circle"
         },
         "mode": "markers",
         "name": "Catelyn Stark",
         "orientation": "v",
         "showlegend": true,
         "type": "scatter",
         "x": [
          -1.120596170425415
         ],
         "xaxis": "x",
         "y": [
          3.0160303115844727
         ],
         "yaxis": "y"
        },
        {
         "hovertemplate": "character=Eddard Stark<br>x=%{x}<br>y=%{y}<extra></extra>",
         "legendgroup": "Eddard Stark",
         "marker": {
          "color": "#00cc96",
          "symbol": "circle"
         },
         "mode": "markers",
         "name": "Eddard Stark",
         "orientation": "v",
         "showlegend": true,
         "type": "scatter",
         "x": [
          -1.7336676120758057
         ],
         "xaxis": "x",
         "y": [
          2.786686420440674
         ],
         "yaxis": "y"
        },
        {
         "hovertemplate": "character=Ramsay Snow<br>x=%{x}<br>y=%{y}<extra></extra>",
         "legendgroup": "Ramsay Snow",
         "marker": {
          "color": "#ab63fa",
          "symbol": "circle"
         },
         "mode": "markers",
         "name": "Ramsay Snow",
         "orientation": "v",
         "showlegend": true,
         "type": "scatter",
         "x": [
          0.16268077492713928
         ],
         "xaxis": "x",
         "y": [
          2.635282039642334
         ],
         "yaxis": "y"
        },
        {
         "hovertemplate": "character=Melisandre<br>x=%{x}<br>y=%{y}<extra></extra>",
         "legendgroup": "Melisandre",
         "marker": {
          "color": "#FFA15A",
          "symbol": "circle"
         },
         "mode": "markers",
         "name": "Melisandre",
         "orientation": "v",
         "showlegend": true,
         "type": "scatter",
         "x": [
          1.8302189111709595
         ],
         "xaxis": "x",
         "y": [
          1.7968627214431763
         ],
         "yaxis": "y"
        }
       ],
       "layout": {
        "autosize": true,
        "legend": {
         "title": {
          "text": "character"
         },
         "tracegroupgap": 0
        },
        "margin": {
         "t": 60
        },
        "template": {
         "data": {
          "bar": [
           {
            "error_x": {
             "color": "#2a3f5f"
            },
            "error_y": {
             "color": "#2a3f5f"
            },
            "marker": {
             "line": {
              "color": "#E5ECF6",
              "width": 0.5
             },
             "pattern": {
              "fillmode": "overlay",
              "size": 10,
              "solidity": 0.2
             }
            },
            "type": "bar"
           }
          ],
          "barpolar": [
           {
            "marker": {
             "line": {
              "color": "#E5ECF6",
              "width": 0.5
             },
             "pattern": {
              "fillmode": "overlay",
              "size": 10,
              "solidity": 0.2
             }
            },
            "type": "barpolar"
           }
          ],
          "carpet": [
           {
            "aaxis": {
             "endlinecolor": "#2a3f5f",
             "gridcolor": "white",
             "linecolor": "white",
             "minorgridcolor": "white",
             "startlinecolor": "#2a3f5f"
            },
            "baxis": {
             "endlinecolor": "#2a3f5f",
             "gridcolor": "white",
             "linecolor": "white",
             "minorgridcolor": "white",
             "startlinecolor": "#2a3f5f"
            },
            "type": "carpet"
           }
          ],
          "choropleth": [
           {
            "colorbar": {
             "outlinewidth": 0,
             "ticks": ""
            },
            "type": "choropleth"
           }
          ],
          "contour": [
           {
            "colorbar": {
             "outlinewidth": 0,
             "ticks": ""
            },
            "colorscale": [
             [
              0,
              "#0d0887"
             ],
             [
              0.1111111111111111,
              "#46039f"
             ],
             [
              0.2222222222222222,
              "#7201a8"
             ],
             [
              0.3333333333333333,
              "#9c179e"
             ],
             [
              0.4444444444444444,
              "#bd3786"
             ],
             [
              0.5555555555555556,
              "#d8576b"
             ],
             [
              0.6666666666666666,
              "#ed7953"
             ],
             [
              0.7777777777777778,
              "#fb9f3a"
             ],
             [
              0.8888888888888888,
              "#fdca26"
             ],
             [
              1,
              "#f0f921"
             ]
            ],
            "type": "contour"
           }
          ],
          "contourcarpet": [
           {
            "colorbar": {
             "outlinewidth": 0,
             "ticks": ""
            },
            "type": "contourcarpet"
           }
          ],
          "heatmap": [
           {
            "colorbar": {
             "outlinewidth": 0,
             "ticks": ""
            },
            "colorscale": [
             [
              0,
              "#0d0887"
             ],
             [
              0.1111111111111111,
              "#46039f"
             ],
             [
              0.2222222222222222,
              "#7201a8"
             ],
             [
              0.3333333333333333,
              "#9c179e"
             ],
             [
              0.4444444444444444,
              "#bd3786"
             ],
             [
              0.5555555555555556,
              "#d8576b"
             ],
             [
              0.6666666666666666,
              "#ed7953"
             ],
             [
              0.7777777777777778,
              "#fb9f3a"
             ],
             [
              0.8888888888888888,
              "#fdca26"
             ],
             [
              1,
              "#f0f921"
             ]
            ],
            "type": "heatmap"
           }
          ],
          "heatmapgl": [
           {
            "colorbar": {
             "outlinewidth": 0,
             "ticks": ""
            },
            "colorscale": [
             [
              0,
              "#0d0887"
             ],
             [
              0.1111111111111111,
              "#46039f"
             ],
             [
              0.2222222222222222,
              "#7201a8"
             ],
             [
              0.3333333333333333,
              "#9c179e"
             ],
             [
              0.4444444444444444,
              "#bd3786"
             ],
             [
              0.5555555555555556,
              "#d8576b"
             ],
             [
              0.6666666666666666,
              "#ed7953"
             ],
             [
              0.7777777777777778,
              "#fb9f3a"
             ],
             [
              0.8888888888888888,
              "#fdca26"
             ],
             [
              1,
              "#f0f921"
             ]
            ],
            "type": "heatmapgl"
           }
          ],
          "histogram": [
           {
            "marker": {
             "pattern": {
              "fillmode": "overlay",
              "size": 10,
              "solidity": 0.2
             }
            },
            "type": "histogram"
           }
          ],
          "histogram2d": [
           {
            "colorbar": {
             "outlinewidth": 0,
             "ticks": ""
            },
            "colorscale": [
             [
              0,
              "#0d0887"
             ],
             [
              0.1111111111111111,
              "#46039f"
             ],
             [
              0.2222222222222222,
              "#7201a8"
             ],
             [
              0.3333333333333333,
              "#9c179e"
             ],
             [
              0.4444444444444444,
              "#bd3786"
             ],
             [
              0.5555555555555556,
              "#d8576b"
             ],
             [
              0.6666666666666666,
              "#ed7953"
             ],
             [
              0.7777777777777778,
              "#fb9f3a"
             ],
             [
              0.8888888888888888,
              "#fdca26"
             ],
             [
              1,
              "#f0f921"
             ]
            ],
            "type": "histogram2d"
           }
          ],
          "histogram2dcontour": [
           {
            "colorbar": {
             "outlinewidth": 0,
             "ticks": ""
            },
            "colorscale": [
             [
              0,
              "#0d0887"
             ],
             [
              0.1111111111111111,
              "#46039f"
             ],
             [
              0.2222222222222222,
              "#7201a8"
             ],
             [
              0.3333333333333333,
              "#9c179e"
             ],
             [
              0.4444444444444444,
              "#bd3786"
             ],
             [
              0.5555555555555556,
              "#d8576b"
             ],
             [
              0.6666666666666666,
              "#ed7953"
             ],
             [
              0.7777777777777778,
              "#fb9f3a"
             ],
             [
              0.8888888888888888,
              "#fdca26"
             ],
             [
              1,
              "#f0f921"
             ]
            ],
            "type": "histogram2dcontour"
           }
          ],
          "mesh3d": [
           {
            "colorbar": {
             "outlinewidth": 0,
             "ticks": ""
            },
            "type": "mesh3d"
           }
          ],
          "parcoords": [
           {
            "line": {
             "colorbar": {
              "outlinewidth": 0,
              "ticks": ""
             }
            },
            "type": "parcoords"
           }
          ],
          "pie": [
           {
            "automargin": true,
            "type": "pie"
           }
          ],
          "scatter": [
           {
            "fillpattern": {
             "fillmode": "overlay",
             "size": 10,
             "solidity": 0.2
            },
            "type": "scatter"
           }
          ],
          "scatter3d": [
           {
            "line": {
             "colorbar": {
              "outlinewidth": 0,
              "ticks": ""
             }
            },
            "marker": {
             "colorbar": {
              "outlinewidth": 0,
              "ticks": ""
             }
            },
            "type": "scatter3d"
           }
          ],
          "scattercarpet": [
           {
            "marker": {
             "colorbar": {
              "outlinewidth": 0,
              "ticks": ""
             }
            },
            "type": "scattercarpet"
           }
          ],
          "scattergeo": [
           {
            "marker": {
             "colorbar": {
              "outlinewidth": 0,
              "ticks": ""
             }
            },
            "type": "scattergeo"
           }
          ],
          "scattergl": [
           {
            "marker": {
             "colorbar": {
              "outlinewidth": 0,
              "ticks": ""
             }
            },
            "type": "scattergl"
           }
          ],
          "scattermapbox": [
           {
            "marker": {
             "colorbar": {
              "outlinewidth": 0,
              "ticks": ""
             }
            },
            "type": "scattermapbox"
           }
          ],
          "scatterpolar": [
           {
            "marker": {
             "colorbar": {
              "outlinewidth": 0,
              "ticks": ""
             }
            },
            "type": "scatterpolar"
           }
          ],
          "scatterpolargl": [
           {
            "marker": {
             "colorbar": {
              "outlinewidth": 0,
              "ticks": ""
             }
            },
            "type": "scatterpolargl"
           }
          ],
          "scatterternary": [
           {
            "marker": {
             "colorbar": {
              "outlinewidth": 0,
              "ticks": ""
             }
            },
            "type": "scatterternary"
           }
          ],
          "surface": [
           {
            "colorbar": {
             "outlinewidth": 0,
             "ticks": ""
            },
            "colorscale": [
             [
              0,
              "#0d0887"
             ],
             [
              0.1111111111111111,
              "#46039f"
             ],
             [
              0.2222222222222222,
              "#7201a8"
             ],
             [
              0.3333333333333333,
              "#9c179e"
             ],
             [
              0.4444444444444444,
              "#bd3786"
             ],
             [
              0.5555555555555556,
              "#d8576b"
             ],
             [
              0.6666666666666666,
              "#ed7953"
             ],
             [
              0.7777777777777778,
              "#fb9f3a"
             ],
             [
              0.8888888888888888,
              "#fdca26"
             ],
             [
              1,
              "#f0f921"
             ]
            ],
            "type": "surface"
           }
          ],
          "table": [
           {
            "cells": {
             "fill": {
              "color": "#EBF0F8"
             },
             "line": {
              "color": "white"
             }
            },
            "header": {
             "fill": {
              "color": "#C8D4E3"
             },
             "line": {
              "color": "white"
             }
            },
            "type": "table"
           }
          ]
         },
         "layout": {
          "annotationdefaults": {
           "arrowcolor": "#2a3f5f",
           "arrowhead": 0,
           "arrowwidth": 1
          },
          "autotypenumbers": "strict",
          "coloraxis": {
           "colorbar": {
            "outlinewidth": 0,
            "ticks": ""
           }
          },
          "colorscale": {
           "diverging": [
            [
             0,
             "#8e0152"
            ],
            [
             0.1,
             "#c51b7d"
            ],
            [
             0.2,
             "#de77ae"
            ],
            [
             0.3,
             "#f1b6da"
            ],
            [
             0.4,
             "#fde0ef"
            ],
            [
             0.5,
             "#f7f7f7"
            ],
            [
             0.6,
             "#e6f5d0"
            ],
            [
             0.7,
             "#b8e186"
            ],
            [
             0.8,
             "#7fbc41"
            ],
            [
             0.9,
             "#4d9221"
            ],
            [
             1,
             "#276419"
            ]
           ],
           "sequential": [
            [
             0,
             "#0d0887"
            ],
            [
             0.1111111111111111,
             "#46039f"
            ],
            [
             0.2222222222222222,
             "#7201a8"
            ],
            [
             0.3333333333333333,
             "#9c179e"
            ],
            [
             0.4444444444444444,
             "#bd3786"
            ],
            [
             0.5555555555555556,
             "#d8576b"
            ],
            [
             0.6666666666666666,
             "#ed7953"
            ],
            [
             0.7777777777777778,
             "#fb9f3a"
            ],
            [
             0.8888888888888888,
             "#fdca26"
            ],
            [
             1,
             "#f0f921"
            ]
           ],
           "sequentialminus": [
            [
             0,
             "#0d0887"
            ],
            [
             0.1111111111111111,
             "#46039f"
            ],
            [
             0.2222222222222222,
             "#7201a8"
            ],
            [
             0.3333333333333333,
             "#9c179e"
            ],
            [
             0.4444444444444444,
             "#bd3786"
            ],
            [
             0.5555555555555556,
             "#d8576b"
            ],
            [
             0.6666666666666666,
             "#ed7953"
            ],
            [
             0.7777777777777778,
             "#fb9f3a"
            ],
            [
             0.8888888888888888,
             "#fdca26"
            ],
            [
             1,
             "#f0f921"
            ]
           ]
          },
          "colorway": [
           "#636efa",
           "#EF553B",
           "#00cc96",
           "#ab63fa",
           "#FFA15A",
           "#19d3f3",
           "#FF6692",
           "#B6E880",
           "#FF97FF",
           "#FECB52"
          ],
          "font": {
           "color": "#2a3f5f"
          },
          "geo": {
           "bgcolor": "white",
           "lakecolor": "white",
           "landcolor": "#E5ECF6",
           "showlakes": true,
           "showland": true,
           "subunitcolor": "white"
          },
          "hoverlabel": {
           "align": "left"
          },
          "hovermode": "closest",
          "mapbox": {
           "style": "light"
          },
          "paper_bgcolor": "white",
          "plot_bgcolor": "#E5ECF6",
          "polar": {
           "angularaxis": {
            "gridcolor": "white",
            "linecolor": "white",
            "ticks": ""
           },
           "bgcolor": "#E5ECF6",
           "radialaxis": {
            "gridcolor": "white",
            "linecolor": "white",
            "ticks": ""
           }
          },
          "scene": {
           "xaxis": {
            "backgroundcolor": "#E5ECF6",
            "gridcolor": "white",
            "gridwidth": 2,
            "linecolor": "white",
            "showbackground": true,
            "ticks": "",
            "zerolinecolor": "white"
           },
           "yaxis": {
            "backgroundcolor": "#E5ECF6",
            "gridcolor": "white",
            "gridwidth": 2,
            "linecolor": "white",
            "showbackground": true,
            "ticks": "",
            "zerolinecolor": "white"
           },
           "zaxis": {
            "backgroundcolor": "#E5ECF6",
            "gridcolor": "white",
            "gridwidth": 2,
            "linecolor": "white",
            "showbackground": true,
            "ticks": "",
            "zerolinecolor": "white"
           }
          },
          "shapedefaults": {
           "line": {
            "color": "#2a3f5f"
           }
          },
          "ternary": {
           "aaxis": {
            "gridcolor": "white",
            "linecolor": "white",
            "ticks": ""
           },
           "baxis": {
            "gridcolor": "white",
            "linecolor": "white",
            "ticks": ""
           },
           "bgcolor": "#E5ECF6",
           "caxis": {
            "gridcolor": "white",
            "linecolor": "white",
            "ticks": ""
           }
          },
          "title": {
           "x": 0.05
          },
          "xaxis": {
           "automargin": true,
           "gridcolor": "white",
           "linecolor": "white",
           "ticks": "",
           "title": {
            "standoff": 15
           },
           "zerolinecolor": "white",
           "zerolinewidth": 2
          },
          "yaxis": {
           "automargin": true,
           "gridcolor": "white",
           "linecolor": "white",
           "ticks": "",
           "title": {
            "standoff": 15
           },
           "zerolinecolor": "white",
           "zerolinewidth": 2
          }
         }
        },
        "xaxis": {
         "anchor": "y",
         "autorange": true,
         "domain": [
          0,
          1
         ],
         "range": [
          -2.7738583060108972,
          2.120120880206759
         ],
         "title": {
          "text": "x"
         },
         "type": "linear"
        },
        "yaxis": {
         "anchor": "x",
         "autorange": true,
         "domain": [
          0,
          1
         ],
         "range": [
          1.1217994028189051,
          5.414168066396488
         ],
         "title": {
          "text": "y"
         },
         "type": "linear"
        }
       }
      },
      "image/png": "[encoded data removed]",
      "text/html": [
       "<div>                            <div id=\"fff1a7b4-62d0-4293-ade9-d9900f7cb817\" class=\"plotly-graph-div\" style=\"height:525px; width:100%;\"></div>            <script type=\"text/javascript\">                require([\"plotly\"], function(Plotly) {                    window.PLOTLYENV=window.PLOTLYENV || {};                                    if (document.getElementById(\"fff1a7b4-62d0-4293-ade9-d9900f7cb817\")) {                    Plotly.newPlot(                        \"fff1a7b4-62d0-4293-ade9-d9900f7cb817\",                        [{\"hovertemplate\":\"character=Tyrion Lannister\\u003cbr\\u003ex=%{x}\\u003cbr\\u003ey=%{y}\\u003cextra\\u003e\\u003c\\u002fextra\\u003e\",\"legendgroup\":\"Tyrion Lannister\",\"marker\":{\"color\":\"#636efa\",\"symbol\":\"circle\"},\"mode\":\"markers\",\"name\":\"Tyrion Lannister\",\"orientation\":\"v\",\"showlegend\":true,\"x\":[-1.4929929971694946],\"xaxis\":\"x\",\"y\":[5.126384258270264],\"yaxis\":\"y\",\"type\":\"scatter\"},{\"hovertemplate\":\"character=Cersei Lannister\\u003cbr\\u003ex=%{x}\\u003cbr\\u003ey=%{y}\\u003cextra\\u003e\\u003c\\u002fextra\\u003e\",\"legendgroup\":\"Cersei Lannister\",\"marker\":{\"color\":\"#EF553B\",\"symbol\":\"circle\"},\"mode\":\"markers\",\"name\":\"Cersei Lannister\",\"orientation\":\"v\",\"showlegend\":true,\"x\":[-1.4869420528411865],\"xaxis\":\"x\",\"y\":[4.897776126861572],\"yaxis\":\"y\",\"type\":\"scatter\"},{\"hovertemplate\":\"character=Jon Snow\\u003cbr\\u003ex=%{x}\\u003cbr\\u003ey=%{y}\\u003cextra\\u003e\\u003c\\u002fextra\\u003e\",\"legendgroup\":\"Jon Snow\",\"marker\":{\"color\":\"#00cc96\",\"symbol\":\"circle\"},\"mode\":\"markers\",\"name\":\"Jon Snow\",\"orientation\":\"v\",\"showlegend\":true,\"x\":[-1.290651798248291],\"xaxis\":\"x\",\"y\":[4.814850807189941],\"yaxis\":\"y\",\"type\":\"scatter\"},{\"hovertemplate\":\"character=Daenerys Targaryen\\u003cbr\\u003ex=%{x}\\u003cbr\\u003ey=%{y}\\u003cextra\\u003e\\u003c\\u002fextra\\u003e\",\"legendgroup\":\"Daenerys Targaryen\",\"marker\":{\"color\":\"#ab63fa\",\"symbol\":\"circle\"},\"mode\":\"markers\",\"name\":\"Daenerys Targaryen\",\"orientation\":\"v\",\"showlegend\":true,\"x\":[-1.755230188369751],\"xaxis\":\"x\",\"y\":[4.409144878387451],\"yaxis\":\"y\",\"type\":\"scatter\"},{\"hovertemplate\":\"character=Jaime Lannister\\u003cbr\\u003ex=%{x}\\u003cbr\\u003ey=%{y}\\u003cextra\\u003e\\u003c\\u002fextra\\u003e\",\"legendgroup\":\"Jaime Lannister\",\"marker\":{\"color\":\"#FFA15A\",\"symbol\":\"circle\"},\"mode\":\"markers\",\"name\":\"Jaime Lannister\",\"orientation\":\"v\",\"showlegend\":true,\"x\":[-1.3946971893310547],\"xaxis\":\"x\",\"y\":[4.736663818359375],\"yaxis\":\"y\",\"type\":\"scatter\"},{\"hovertemplate\":\"character=Sansa Stark\\u003cbr\\u003ex=%{x}\\u003cbr\\u003ey=%{y}\\u003cextra\\u003e\\u003c\\u002fextra\\u003e\",\"legendgroup\":\"Sansa Stark\",\"marker\":{\"color\":\"#19d3f3\",\"symbol\":\"circle\"},\"mode\":\"markers\",\"name\":\"Sansa Stark\",\"orientation\":\"v\",\"showlegend\":true,\"x\":[-1.3547377586364746],\"xaxis\":\"x\",\"y\":[4.438361644744873],\"yaxis\":\"y\",\"type\":\"scatter\"},{\"hovertemplate\":\"character=Petyr Baelish\\u003cbr\\u003ex=%{x}\\u003cbr\\u003ey=%{y}\\u003cextra\\u003e\\u003c\\u002fextra\\u003e\",\"legendgroup\":\"Petyr Baelish\",\"marker\":{\"color\":\"#FF6692\",\"symbol\":\"circle\"},\"mode\":\"markers\",\"name\":\"Petyr Baelish\",\"orientation\":\"v\",\"showlegend\":true,\"x\":[-1.7203319072723389],\"xaxis\":\"x\",\"y\":[4.071101188659668],\"yaxis\":\"y\",\"type\":\"scatter\"},{\"hovertemplate\":\"character=Lord Varys\\u003cbr\\u003ex=%{x}\\u003cbr\\u003ey=%{y}\\u003cextra\\u003e\\u003c\\u002fextra\\u003e\",\"legendgroup\":\"Lord Varys\",\"marker\":{\"color\":\"#B6E880\",\"symbol\":\"circle\"},\"mode\":\"markers\",\"name\":\"Lord Varys\",\"orientation\":\"v\",\"showlegend\":true,\"x\":[-1.7621372938156128],\"xaxis\":\"x\",\"y\":[3.942927598953247],\"yaxis\":\"y\",\"type\":\"scatter\"},{\"hovertemplate\":\"character=Davos Seaworth\\u003cbr\\u003ex=%{x}\\u003cbr\\u003ey=%{y}\\u003cextra\\u003e\\u003c\\u002fextra\\u003e\",\"legendgroup\":\"Davos Seaworth\",\"marker\":{\"color\":\"#FF97FF\",\"symbol\":\"circle\"},\"mode\":\"markers\",\"name\":\"Davos Seaworth\",\"orientation\":\"v\",\"showlegend\":true,\"x\":[-1.6115587949752808],\"xaxis\":\"x\",\"y\":[3.707535743713379],\"yaxis\":\"y\",\"type\":\"scatter\"},{\"hovertemplate\":\"character=Samwell Tarly\\u003cbr\\u003ex=%{x}\\u003cbr\\u003ey=%{y}\\u003cextra\\u003e\\u003c\\u002fextra\\u003e\",\"legendgroup\":\"Samwell Tarly\",\"marker\":{\"color\":\"#FECB52\",\"symbol\":\"circle\"},\"mode\":\"markers\",\"name\":\"Samwell Tarly\",\"orientation\":\"v\",\"showlegend\":true,\"x\":[-0.6425979733467102],\"xaxis\":\"x\",\"y\":[3.623063564300537],\"yaxis\":\"y\",\"type\":\"scatter\"},{\"hovertemplate\":\"character=Arya Stark\\u003cbr\\u003ex=%{x}\\u003cbr\\u003ey=%{y}\\u003cextra\\u003e\\u003c\\u002fextra\\u003e\",\"legendgroup\":\"Arya Stark\",\"marker\":{\"color\":\"#636efa\",\"symbol\":\"circle\"},\"mode\":\"markers\",\"name\":\"Arya Stark\",\"orientation\":\"v\",\"showlegend\":true,\"x\":[-0.6690286993980408],\"xaxis\":\"x\",\"y\":[4.0689778327941895],\"yaxis\":\"y\",\"type\":\"scatter\"},{\"hovertemplate\":\"character=Tywin Lannister\\u003cbr\\u003ex=%{x}\\u003cbr\\u003ey=%{y}\\u003cextra\\u003e\\u003c\\u002fextra\\u003e\",\"legendgroup\":\"Tywin Lannister\",\"marker\":{\"color\":\"#EF553B\",\"symbol\":\"circle\"},\"mode\":\"markers\",\"name\":\"Tywin Lannister\",\"orientation\":\"v\",\"showlegend\":true,\"x\":[-2.0676960945129395],\"xaxis\":\"x\",\"y\":[2.9774298667907715],\"yaxis\":\"y\",\"type\":\"scatter\"},{\"hovertemplate\":\"character=Theon Greyjoy\\u003cbr\\u003ex=%{x}\\u003cbr\\u003ey=%{y}\\u003cextra\\u003e\\u003c\\u002fextra\\u003e\",\"legendgroup\":\"Theon Greyjoy\",\"marker\":{\"color\":\"#00cc96\",\"symbol\":\"circle\"},\"mode\":\"markers\",\"name\":\"Theon Greyjoy\",\"orientation\":\"v\",\"showlegend\":true,\"x\":[-0.9462049603462219],\"xaxis\":\"x\",\"y\":[3.649153709411621],\"yaxis\":\"y\",\"type\":\"scatter\"},{\"hovertemplate\":\"character=Jorah Mormont\\u003cbr\\u003ex=%{x}\\u003cbr\\u003ey=%{y}\\u003cextra\\u003e\\u003c\\u002fextra\\u003e\",\"legendgroup\":\"Jorah Mormont\",\"marker\":{\"color\":\"#ab63fa\",\"symbol\":\"circle\"},\"mode\":\"markers\",\"name\":\"Jorah Mormont\",\"orientation\":\"v\",\"showlegend\":true,\"x\":[-2.4839563369750977],\"xaxis\":\"x\",\"y\":[2.5040395259857178],\"yaxis\":\"y\",\"type\":\"scatter\"},{\"hovertemplate\":\"character=Bronn\\u003cbr\\u003ex=%{x}\\u003cbr\\u003ey=%{y}\\u003cextra\\u003e\\u003c\\u002fextra\\u003e\",\"legendgroup\":\"Bronn\",\"marker\":{\"color\":\"#FFA15A\",\"symbol\":\"circle\"},\"mode\":\"markers\",\"name\":\"Bronn\",\"orientation\":\"v\",\"showlegend\":true,\"x\":[-0.046283211559057236],\"xaxis\":\"x\",\"y\":[3.528468370437622],\"yaxis\":\"y\",\"type\":\"scatter\"},{\"hovertemplate\":\"character=Olenna Tyrell\\u003cbr\\u003ex=%{x}\\u003cbr\\u003ey=%{y}\\u003cextra\\u003e\\u003c\\u002fextra\\u003e\",\"legendgroup\":\"Olenna Tyrell\",\"marker\":{\"color\":\"#19d3f3\",\"symbol\":\"circle\"},\"mode\":\"markers\",\"name\":\"Olenna Tyrell\",\"orientation\":\"v\",\"showlegend\":true,\"x\":[-1.9375146627426147],\"xaxis\":\"x\",\"y\":[1.575617790222168],\"yaxis\":\"y\",\"type\":\"scatter\"},{\"hovertemplate\":\"character=Brienne of Tarth\\u003cbr\\u003ex=%{x}\\u003cbr\\u003ey=%{y}\\u003cextra\\u003e\\u003c\\u002fextra\\u003e\",\"legendgroup\":\"Brienne of Tarth\",\"marker\":{\"color\":\"#FF6692\",\"symbol\":\"circle\"},\"mode\":\"markers\",\"name\":\"Brienne of Tarth\",\"orientation\":\"v\",\"showlegend\":true,\"x\":[-1.2592872381210327],\"xaxis\":\"x\",\"y\":[2.4662551879882812],\"yaxis\":\"y\",\"type\":\"scatter\"},{\"hovertemplate\":\"character=Sandor Clegane\\u003cbr\\u003ex=%{x}\\u003cbr\\u003ey=%{y}\\u003cextra\\u003e\\u003c\\u002fextra\\u003e\",\"legendgroup\":\"Sandor Clegane\",\"marker\":{\"color\":\"#B6E880\",\"symbol\":\"circle\"},\"mode\":\"markers\",\"name\":\"Sandor Clegane\",\"orientation\":\"v\",\"showlegend\":true,\"x\":[0.02366035059094429],\"xaxis\":\"x\",\"y\":[3.4963018894195557],\"yaxis\":\"y\",\"type\":\"scatter\"},{\"hovertemplate\":\"character=Robb Stark\\u003cbr\\u003ex=%{x}\\u003cbr\\u003ey=%{y}\\u003cextra\\u003e\\u003c\\u002fextra\\u003e\",\"legendgroup\":\"Robb Stark\",\"marker\":{\"color\":\"#FF97FF\",\"symbol\":\"circle\"},\"mode\":\"markers\",\"name\":\"Robb Stark\",\"orientation\":\"v\",\"showlegend\":true,\"x\":[-1.1768560409545898],\"xaxis\":\"x\",\"y\":[3.2921347618103027],\"yaxis\":\"y\",\"type\":\"scatter\"},{\"hovertemplate\":\"character=Stannis Baratheon\\u003cbr\\u003ex=%{x}\\u003cbr\\u003ey=%{y}\\u003cextra\\u003e\\u003c\\u002fextra\\u003e\",\"legendgroup\":\"Stannis Baratheon\",\"marker\":{\"color\":\"#FECB52\",\"symbol\":\"circle\"},\"mode\":\"markers\",\"name\":\"Stannis Baratheon\",\"orientation\":\"v\",\"showlegend\":true,\"x\":[-1.5138829946517944],\"xaxis\":\"x\",\"y\":[2.908151626586914],\"yaxis\":\"y\",\"type\":\"scatter\"},{\"hovertemplate\":\"character=Margaery Tyrell\\u003cbr\\u003ex=%{x}\\u003cbr\\u003ey=%{y}\\u003cextra\\u003e\\u003c\\u002fextra\\u003e\",\"legendgroup\":\"Margaery Tyrell\",\"marker\":{\"color\":\"#636efa\",\"symbol\":\"circle\"},\"mode\":\"markers\",\"name\":\"Margaery Tyrell\",\"orientation\":\"v\",\"showlegend\":true,\"x\":[-2.3505959510803223],\"xaxis\":\"x\",\"y\":[1.4095832109451294],\"yaxis\":\"y\",\"type\":\"scatter\"},{\"hovertemplate\":\"character=Catelyn Stark\\u003cbr\\u003ex=%{x}\\u003cbr\\u003ey=%{y}\\u003cextra\\u003e\\u003c\\u002fextra\\u003e\",\"legendgroup\":\"Catelyn Stark\",\"marker\":{\"color\":\"#EF553B\",\"symbol\":\"circle\"},\"mode\":\"markers\",\"name\":\"Catelyn Stark\",\"orientation\":\"v\",\"showlegend\":true,\"x\":[-1.120596170425415],\"xaxis\":\"x\",\"y\":[3.0160303115844727],\"yaxis\":\"y\",\"type\":\"scatter\"},{\"hovertemplate\":\"character=Eddard Stark\\u003cbr\\u003ex=%{x}\\u003cbr\\u003ey=%{y}\\u003cextra\\u003e\\u003c\\u002fextra\\u003e\",\"legendgroup\":\"Eddard Stark\",\"marker\":{\"color\":\"#00cc96\",\"symbol\":\"circle\"},\"mode\":\"markers\",\"name\":\"Eddard Stark\",\"orientation\":\"v\",\"showlegend\":true,\"x\":[-1.7336676120758057],\"xaxis\":\"x\",\"y\":[2.786686420440674],\"yaxis\":\"y\",\"type\":\"scatter\"},{\"hovertemplate\":\"character=Ramsay Snow\\u003cbr\\u003ex=%{x}\\u003cbr\\u003ey=%{y}\\u003cextra\\u003e\\u003c\\u002fextra\\u003e\",\"legendgroup\":\"Ramsay Snow\",\"marker\":{\"color\":\"#ab63fa\",\"symbol\":\"circle\"},\"mode\":\"markers\",\"name\":\"Ramsay Snow\",\"orientation\":\"v\",\"showlegend\":true,\"x\":[0.16268077492713928],\"xaxis\":\"x\",\"y\":[2.635282039642334],\"yaxis\":\"y\",\"type\":\"scatter\"},{\"hovertemplate\":\"character=Melisandre\\u003cbr\\u003ex=%{x}\\u003cbr\\u003ey=%{y}\\u003cextra\\u003e\\u003c\\u002fextra\\u003e\",\"legendgroup\":\"Melisandre\",\"marker\":{\"color\":\"#FFA15A\",\"symbol\":\"circle\"},\"mode\":\"markers\",\"name\":\"Melisandre\",\"orientation\":\"v\",\"showlegend\":true,\"x\":[1.8302189111709595],\"xaxis\":\"x\",\"y\":[1.7968627214431763],\"yaxis\":\"y\",\"type\":\"scatter\"}],                        {\"template\":{\"data\":{\"histogram2dcontour\":[{\"type\":\"histogram2dcontour\",\"colorbar\":{\"outlinewidth\":0,\"ticks\":\"\"},\"colorscale\":[[0.0,\"#0d0887\"],[0.1111111111111111,\"#46039f\"],[0.2222222222222222,\"#7201a8\"],[0.3333333333333333,\"#9c179e\"],[0.4444444444444444,\"#bd3786\"],[0.5555555555555556,\"#d8576b\"],[0.6666666666666666,\"#ed7953\"],[0.7777777777777778,\"#fb9f3a\"],[0.8888888888888888,\"#fdca26\"],[1.0,\"#f0f921\"]]}],\"choropleth\":[{\"type\":\"choropleth\",\"colorbar\":{\"outlinewidth\":0,\"ticks\":\"\"}}],\"histogram2d\":[{\"type\":\"histogram2d\",\"colorbar\":{\"outlinewidth\":0,\"ticks\":\"\"},\"colorscale\":[[0.0,\"#0d0887\"],[0.1111111111111111,\"#46039f\"],[0.2222222222222222,\"#7201a8\"],[0.3333333333333333,\"#9c179e\"],[0.4444444444444444,\"#bd3786\"],[0.5555555555555556,\"#d8576b\"],[0.6666666666666666,\"#ed7953\"],[0.7777777777777778,\"#fb9f3a\"],[0.8888888888888888,\"#fdca26\"],[1.0,\"#f0f921\"]]}],\"heatmap\":[{\"type\":\"heatmap\",\"colorbar\":{\"outlinewidth\":0,\"ticks\":\"\"},\"colorscale\":[[0.0,\"#0d0887\"],[0.1111111111111111,\"#46039f\"],[0.2222222222222222,\"#7201a8\"],[0.3333333333333333,\"#9c179e\"],[0.4444444444444444,\"#bd3786\"],[0.5555555555555556,\"#d8576b\"],[0.6666666666666666,\"#ed7953\"],[0.7777777777777778,\"#fb9f3a\"],[0.8888888888888888,\"#fdca26\"],[1.0,\"#f0f921\"]]}],\"heatmapgl\":[{\"type\":\"heatmapgl\",\"colorbar\":{\"outlinewidth\":0,\"ticks\":\"\"},\"colorscale\":[[0.0,\"#0d0887\"],[0.1111111111111111,\"#46039f\"],[0.2222222222222222,\"#7201a8\"],[0.3333333333333333,\"#9c179e\"],[0.4444444444444444,\"#bd3786\"],[0.5555555555555556,\"#d8576b\"],[0.6666666666666666,\"#ed7953\"],[0.7777777777777778,\"#fb9f3a\"],[0.8888888888888888,\"#fdca26\"],[1.0,\"#f0f921\"]]}],\"contourcarpet\":[{\"type\":\"contourcarpet\",\"colorbar\":{\"outlinewidth\":0,\"ticks\":\"\"}}],\"contour\":[{\"type\":\"contour\",\"colorbar\":{\"outlinewidth\":0,\"ticks\":\"\"},\"colorscale\":[[0.0,\"#0d0887\"],[0.1111111111111111,\"#46039f\"],[0.2222222222222222,\"#7201a8\"],[0.3333333333333333,\"#9c179e\"],[0.4444444444444444,\"#bd3786\"],[0.5555555555555556,\"#d8576b\"],[0.6666666666666666,\"#ed7953\"],[0.7777777777777778,\"#fb9f3a\"],[0.8888888888888888,\"#fdca26\"],[1.0,\"#f0f921\"]]}],\"surface\":[{\"type\":\"surface\",\"colorbar\":{\"outlinewidth\":0,\"ticks\":\"\"},\"colorscale\":[[0.0,\"#0d0887\"],[0.1111111111111111,\"#46039f\"],[0.2222222222222222,\"#7201a8\"],[0.3333333333333333,\"#9c179e\"],[0.4444444444444444,\"#bd3786\"],[0.5555555555555556,\"#d8576b\"],[0.6666666666666666,\"#ed7953\"],[0.7777777777777778,\"#fb9f3a\"],[0.8888888888888888,\"#fdca26\"],[1.0,\"#f0f921\"]]}],\"mesh3d\":[{\"type\":\"mesh3d\",\"colorbar\":{\"outlinewidth\":0,\"ticks\":\"\"}}],\"scatter\":[{\"fillpattern\":{\"fillmode\":\"overlay\",\"size\":10,\"solidity\":0.2},\"type\":\"scatter\"}],\"parcoords\":[{\"type\":\"parcoords\",\"line\":{\"colorbar\":{\"outlinewidth\":0,\"ticks\":\"\"}}}],\"scatterpolargl\":[{\"type\":\"scatterpolargl\",\"marker\":{\"colorbar\":{\"outlinewidth\":0,\"ticks\":\"\"}}}],\"bar\":[{\"error_x\":{\"color\":\"#2a3f5f\"},\"error_y\":{\"color\":\"#2a3f5f\"},\"marker\":{\"line\":{\"color\":\"#E5ECF6\",\"width\":0.5},\"pattern\":{\"fillmode\":\"overlay\",\"size\":10,\"solidity\":0.2}},\"type\":\"bar\"}],\"scattergeo\":[{\"type\":\"scattergeo\",\"marker\":{\"colorbar\":{\"outlinewidth\":0,\"ticks\":\"\"}}}],\"scatterpolar\":[{\"type\":\"scatterpolar\",\"marker\":{\"colorbar\":{\"outlinewidth\":0,\"ticks\":\"\"}}}],\"histogram\":[{\"marker\":{\"pattern\":{\"fillmode\":\"overlay\",\"size\":10,\"solidity\":0.2}},\"type\":\"histogram\"}],\"scattergl\":[{\"type\":\"scattergl\",\"marker\":{\"colorbar\":{\"outlinewidth\":0,\"ticks\":\"\"}}}],\"scatter3d\":[{\"type\":\"scatter3d\",\"line\":{\"colorbar\":{\"outlinewidth\":0,\"ticks\":\"\"}},\"marker\":{\"colorbar\":{\"outlinewidth\":0,\"ticks\":\"\"}}}],\"scattermapbox\":[{\"type\":\"scattermapbox\",\"marker\":{\"colorbar\":{\"outlinewidth\":0,\"ticks\":\"\"}}}],\"scatterternary\":[{\"type\":\"scatterternary\",\"marker\":{\"colorbar\":{\"outlinewidth\":0,\"ticks\":\"\"}}}],\"scattercarpet\":[{\"type\":\"scattercarpet\",\"marker\":{\"colorbar\":{\"outlinewidth\":0,\"ticks\":\"\"}}}],\"carpet\":[{\"aaxis\":{\"endlinecolor\":\"#2a3f5f\",\"gridcolor\":\"white\",\"linecolor\":\"white\",\"minorgridcolor\":\"white\",\"startlinecolor\":\"#2a3f5f\"},\"baxis\":{\"endlinecolor\":\"#2a3f5f\",\"gridcolor\":\"white\",\"linecolor\":\"white\",\"minorgridcolor\":\"white\",\"startlinecolor\":\"#2a3f5f\"},\"type\":\"carpet\"}],\"table\":[{\"cells\":{\"fill\":{\"color\":\"#EBF0F8\"},\"line\":{\"color\":\"white\"}},\"header\":{\"fill\":{\"color\":\"#C8D4E3\"},\"line\":{\"color\":\"white\"}},\"type\":\"table\"}],\"barpolar\":[{\"marker\":{\"line\":{\"color\":\"#E5ECF6\",\"width\":0.5},\"pattern\":{\"fillmode\":\"overlay\",\"size\":10,\"solidity\":0.2}},\"type\":\"barpolar\"}],\"pie\":[{\"automargin\":true,\"type\":\"pie\"}]},\"layout\":{\"autotypenumbers\":\"strict\",\"colorway\":[\"#636efa\",\"#EF553B\",\"#00cc96\",\"#ab63fa\",\"#FFA15A\",\"#19d3f3\",\"#FF6692\",\"#B6E880\",\"#FF97FF\",\"#FECB52\"],\"font\":{\"color\":\"#2a3f5f\"},\"hovermode\":\"closest\",\"hoverlabel\":{\"align\":\"left\"},\"paper_bgcolor\":\"white\",\"plot_bgcolor\":\"#E5ECF6\",\"polar\":{\"bgcolor\":\"#E5ECF6\",\"angularaxis\":{\"gridcolor\":\"white\",\"linecolor\":\"white\",\"ticks\":\"\"},\"radialaxis\":{\"gridcolor\":\"white\",\"linecolor\":\"white\",\"ticks\":\"\"}},\"ternary\":{\"bgcolor\":\"#E5ECF6\",\"aaxis\":{\"gridcolor\":\"white\",\"linecolor\":\"white\",\"ticks\":\"\"},\"baxis\":{\"gridcolor\":\"white\",\"linecolor\":\"white\",\"ticks\":\"\"},\"caxis\":{\"gridcolor\":\"white\",\"linecolor\":\"white\",\"ticks\":\"\"}},\"coloraxis\":{\"colorbar\":{\"outlinewidth\":0,\"ticks\":\"\"}},\"colorscale\":{\"sequential\":[[0.0,\"#0d0887\"],[0.1111111111111111,\"#46039f\"],[0.2222222222222222,\"#7201a8\"],[0.3333333333333333,\"#9c179e\"],[0.4444444444444444,\"#bd3786\"],[0.5555555555555556,\"#d8576b\"],[0.6666666666666666,\"#ed7953\"],[0.7777777777777778,\"#fb9f3a\"],[0.8888888888888888,\"#fdca26\"],[1.0,\"#f0f921\"]],\"sequentialminus\":[[0.0,\"#0d0887\"],[0.1111111111111111,\"#46039f\"],[0.2222222222222222,\"#7201a8\"],[0.3333333333333333,\"#9c179e\"],[0.4444444444444444,\"#bd3786\"],[0.5555555555555556,\"#d8576b\"],[0.6666666666666666,\"#ed7953\"],[0.7777777777777778,\"#fb9f3a\"],[0.8888888888888888,\"#fdca26\"],[1.0,\"#f0f921\"]],\"diverging\":[[0,\"#8e0152\"],[0.1,\"#c51b7d\"],[0.2,\"#de77ae\"],[0.3,\"#f1b6da\"],[0.4,\"#fde0ef\"],[0.5,\"#f7f7f7\"],[0.6,\"#e6f5d0\"],[0.7,\"#b8e186\"],[0.8,\"#7fbc41\"],[0.9,\"#4d9221\"],[1,\"#276419\"]]},\"xaxis\":{\"gridcolor\":\"white\",\"linecolor\":\"white\",\"ticks\":\"\",\"title\":{\"standoff\":15},\"zerolinecolor\":\"white\",\"automargin\":true,\"zerolinewidth\":2},\"yaxis\":{\"gridcolor\":\"white\",\"linecolor\":\"white\",\"ticks\":\"\",\"title\":{\"standoff\":15},\"zerolinecolor\":\"white\",\"automargin\":true,\"zerolinewidth\":2},\"scene\":{\"xaxis\":{\"backgroundcolor\":\"#E5ECF6\",\"gridcolor\":\"white\",\"linecolor\":\"white\",\"showbackground\":true,\"ticks\":\"\",\"zerolinecolor\":\"white\",\"gridwidth\":2},\"yaxis\":{\"backgroundcolor\":\"#E5ECF6\",\"gridcolor\":\"white\",\"linecolor\":\"white\",\"showbackground\":true,\"ticks\":\"\",\"zerolinecolor\":\"white\",\"gridwidth\":2},\"zaxis\":{\"backgroundcolor\":\"#E5ECF6\",\"gridcolor\":\"white\",\"linecolor\":\"white\",\"showbackground\":true,\"ticks\":\"\",\"zerolinecolor\":\"white\",\"gridwidth\":2}},\"shapedefaults\":{\"line\":{\"color\":\"#2a3f5f\"}},\"annotationdefaults\":{\"arrowcolor\":\"#2a3f5f\",\"arrowhead\":0,\"arrowwidth\":1},\"geo\":{\"bgcolor\":\"white\",\"landcolor\":\"#E5ECF6\",\"subunitcolor\":\"white\",\"showland\":true,\"showlakes\":true,\"lakecolor\":\"white\"},\"title\":{\"x\":0.05},\"mapbox\":{\"style\":\"light\"}}},\"xaxis\":{\"anchor\":\"y\",\"domain\":[0.0,1.0],\"title\":{\"text\":\"x\"}},\"yaxis\":{\"anchor\":\"x\",\"domain\":[0.0,1.0],\"title\":{\"text\":\"y\"}},\"legend\":{\"title\":{\"text\":\"character\"},\"tracegroupgap\":0},\"margin\":{\"t\":60}},                        {\"responsive\": true}                    ).then(function(){\n",
       "                            \n",
       "var gd = document.getElementById('fff1a7b4-62d0-4293-ade9-d9900f7cb817');\n",
       "var x = new MutationObserver(function (mutations, observer) {{\n",
       "        var display = window.getComputedStyle(gd).display;\n",
       "        if (!display || display === 'none') {{\n",
       "            console.log([gd, 'removed!']);\n",
       "            Plotly.purge(gd);\n",
       "            observer.disconnect();\n",
       "        }}\n",
       "}});\n",
       "\n",
       "// Listen for the removal of the full notebook cells\n",
       "var notebookContainer = gd.closest('#notebook-container');\n",
       "if (notebookContainer) {{\n",
       "    x.observe(notebookContainer, {childList: true});\n",
       "}}\n",
       "\n",
       "// Listen for the clearing of the current output cell\n",
       "var outputEl = gd.closest('.output');\n",
       "if (outputEl) {{\n",
       "    x.observe(outputEl, {childList: true});\n",
       "}}\n",
       "\n",
       "                        })                };                });            </script>        </div>"
      ]
     },
     "metadata": {},
     "output_type": "display_data"
    }
   ],
   "source": [
    "import plotly.express as px\n",
    "fig = px.scatter(new_df.head(25), x=\"x\", y=\"y\", color=\"character\")\n",
    "fig.show()"
   ]
  },
  {
   "cell_type": "code",
   "execution_count": 83,
   "metadata": {
    "id": "AV0PfA91KzmS"
   },
   "outputs": [],
   "source": [
    "import pickle\n",
    "with open('data.pkl', 'wb') as f:\n",
    "    pickle.dump(new_df, f)"
   ]
  },
  {
   "cell_type": "code",
   "execution_count": 69,
   "metadata": {},
   "outputs": [],
   "source": [
    "import requests"
   ]
  },
  {
   "cell_type": "code",
   "execution_count": 71,
   "metadata": {},
   "outputs": [],
   "source": [
    "api_data = requests.get(\"https://thronesapi.com/api/v2/Characters\").json()\n",
    "with open('data.pkl', 'rb') as f:\n",
    "    df = pickle.load(f)"
   ]
  },
  {
   "cell_type": "code",
   "execution_count": 73,
   "metadata": {},
   "outputs": [
    {
     "name": "stdout",
     "output_type": "stream",
     "text": [
      "Index(['character', 'words', 'num_words', 'x', 'y'], dtype='object')\n"
     ]
    }
   ],
   "source": [
    "print(df.columns)"
   ]
  },
  {
   "cell_type": "code",
   "execution_count": 75,
   "metadata": {},
   "outputs": [
    {
     "name": "stdout",
     "output_type": "stream",
     "text": [
      "Selected: Jon Snow\n",
      "Recommended: Jamie Lannister\n",
      "Image URL: https://thronesapi.com/assets/images/jaime-lannister.jpg\n"
     ]
    }
   ],
   "source": [
    "df = df.head(25)\n",
    "df['character'] = df['character'].str.replace('Jaime','Jamie')\n",
    "\n",
    "selected_character = 'Jon Snow'  \n",
    "\n",
    "def fetch_image(name, api_data):\n",
    "    for item in api_data:\n",
    "        if item['fullName'] == name:\n",
    "            return item['imageUrl']\n",
    "\n",
    "character_id = np.where(df['character'].values == selected_character)[0][0]\n",
    "x = df[['x','y']].values\n",
    "distances = [np.linalg.norm(x[character_id] - x[i]) for i in range(len(x))]\n",
    "recommended_id = sorted(list(enumerate(distances)), key=lambda x:x[1])[1][0]\n",
    "recommended_character = df['character'].values[recommended_id]\n",
    "\n",
    "print(\"Selected:\", selected_character)\n",
    "print(\"Recommended:\", recommended_character)\n",
    "print(\"Image URL:\", fetch_image(recommended_character, api_data))"
   ]
  },
  {
   "cell_type": "markdown",
   "metadata": {},
   "source": [
    "####  NOTE: To run this Streamlit app, open your command prompt (CMD) or terminal and run:\n",
    "#### streamlit run matcher.py\n",
    "####  This will launch the web app in your default browser at http://localhost:8501\n"
   ]
  },
  {
   "cell_type": "code",
   "execution_count": null,
   "metadata": {},
   "outputs": [],
   "source": []
  }
 ],
 "metadata": {
  "accelerator": "GPU",
  "colab": {
   "gpuType": "T4",
   "provenance": []
  },
  "kernelspec": {
   "display_name": "Python 3 (ipykernel)",
   "language": "python",
   "name": "python3"
  },
  "language_info": {
   "codemirror_mode": {
    "name": "ipython",
    "version": 3
   },
   "file_extension": ".py",
   "mimetype": "text/x-python",
   "name": "python",
   "nbconvert_exporter": "python",
   "pygments_lexer": "ipython3",
   "version": "3.12.7"
  }
 },
 "nbformat": 4,
 "nbformat_minor": 4
}
